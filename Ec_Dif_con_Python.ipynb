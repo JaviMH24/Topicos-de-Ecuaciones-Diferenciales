{
 "cells": [
  {
   "cell_type": "markdown",
   "metadata": {},
   "source": [
    "## Resolución de Ecuaciones Diferenciales con Python"
   ]
  },
  {
   "cell_type": "markdown",
   "metadata": {},
   "source": [
    "### *Ecuación logistica:\n",
    "$$\\frac{dp}{dt}=ap-bp^2$$ \n",
    "con $$p(0)=p_0$$"
   ]
  },
  {
   "cell_type": "markdown",
   "metadata": {},
   "source": [
    "Primero importamos las librerias a utilizar:"
   ]
  },
  {
   "cell_type": "code",
   "execution_count": 2,
   "metadata": {},
   "outputs": [],
   "source": [
    "import sympy as sp #Libreria calculo simbolico\n",
    "import matplotlib.pyplot as plt #Libreria para graficas\n",
    "import matplotlib as mpl\n",
    "import numpy as np #Liberia para calculos numericos\n",
    "import scipy  #libreria para herramientas adicionales, \n",
    "               #estadistica, optimizacion, etc\n",
    "sp.init_printing() #LIbreria para visualizar las ecuaciones"
   ]
  },
  {
   "cell_type": "code",
   "execution_count": 24,
   "metadata": {},
   "outputs": [],
   "source": [
    "#Agregamos las variables que se encuentran en la ED\n",
    "p=sp.Function('p') #variable dependiente de la función\n",
    "t=sp.symbols('t')  #variable independiente de la función\n",
    "a=sp.symbols('a')  #variables extras\n",
    "b=sp.symbols('b')\n",
    "p0=sp.symbols('p0')"
   ]
  },
  {
   "cell_type": "code",
   "execution_count": 25,
   "metadata": {},
   "outputs": [],
   "source": [
    "ode=sp.Eq(sp.Derivative(p(t),t)-a*p(t)+b*p(t)*p(t),0) #comando para escribir la ED\n",
    "sol = sp.dsolve(ode,p(t),ics={p(0):p0}) #Resolver la ED con el valor inicial p(0)=0"
   ]
  },
  {
   "cell_type": "code",
   "execution_count": 26,
   "metadata": {},
   "outputs": [
    {
     "data": {
      "image/png": "[encoded data removed]",
      "text/latex": [
       "$\\displaystyle p{\\left(t \\right)} = \\frac{a e^{a \\left(t + \\frac{\\log{\\left(\\frac{b p_{0}}{- a + b p_{0}} \\right)}}{a}\\right)}}{b \\left(e^{a \\left(t + \\frac{\\log{\\left(\\frac{b p_{0}}{- a + b p_{0}} \\right)}}{a}\\right)} - 1\\right)}$"
      ],
      "text/plain": [
       "               ⎛       ⎛   b⋅p₀  ⎞⎞   \n",
       "               ⎜    log⎜─────────⎟⎟   \n",
       "               ⎜       ⎝-a + b⋅p₀⎠⎟   \n",
       "             a⋅⎜t + ──────────────⎟   \n",
       "               ⎝          a       ⎠   \n",
       "          a⋅ℯ                         \n",
       "p(t) = ───────────────────────────────\n",
       "         ⎛   ⎛       ⎛   b⋅p₀  ⎞⎞    ⎞\n",
       "         ⎜   ⎜    log⎜─────────⎟⎟    ⎟\n",
       "         ⎜   ⎜       ⎝-a + b⋅p₀⎠⎟    ⎟\n",
       "         ⎜ a⋅⎜t + ──────────────⎟    ⎟\n",
       "         ⎜   ⎝          a       ⎠    ⎟\n",
       "       b⋅⎝ℯ                       - 1⎠"
      ]
     },
     "execution_count": 26,
     "metadata": {},
     "output_type": "execute_result"
    }
   ],
   "source": [
    "sol #imprimimos el resultado obtenido"
   ]
  },
  {
   "cell_type": "code",
   "execution_count": 27,
   "metadata": {},
   "outputs": [],
   "source": [
    "#Podemos definir algunas constantes para resolver la ED con el siguiente\n",
    "#comando\n",
    "constants={a:0.03,b:0.0001,p0:5} # comando para definir valores para de las constantes para ED\n",
    "sol1=sol.subs(constants)  #comando para obtener las solución de la ED a partir de las constantes definidas\n",
    "constants={a:0.03,b:0.0001,p0:6}\n",
    "sol2=sol.subs(constants)\n",
    "constants={a:0.03,b:0.0001,p0:7}\n",
    "sol3=sol.subs(constants)"
   ]
  },
  {
   "cell_type": "code",
   "execution_count": 28,
   "metadata": {},
   "outputs": [
    {
     "data": {
      "image/png": "[encoded data removed]",
      "text/latex": [
       "$\\displaystyle p{\\left(t \\right)} = - \\frac{5.08474576271187 e^{0.03 t}}{- 0.0169491525423729 e^{0.03 t} - 1}$"
      ],
      "text/plain": [
       "                             0.03⋅t    \n",
       "          -5.08474576271187⋅ℯ          \n",
       "p(t) = ────────────────────────────────\n",
       "                             0.03⋅t    \n",
       "       - 0.0169491525423729⋅ℯ       - 1"
      ]
     },
     "execution_count": 28,
     "metadata": {},
     "output_type": "execute_result"
    }
   ],
   "source": [
    "sol1"
   ]
  },
  {
   "cell_type": "code",
   "execution_count": 29,
   "metadata": {},
   "outputs": [
    {
     "data": {
      "image/png": "[encoded data removed]",
      "text/latex": [
       "$\\displaystyle p{\\left(t \\right)} = - \\frac{6.12244897959184 e^{0.03 t}}{- 0.0204081632653061 e^{0.03 t} - 1}$"
      ],
      "text/plain": [
       "                             0.03⋅t    \n",
       "          -6.12244897959184⋅ℯ          \n",
       "p(t) = ────────────────────────────────\n",
       "                             0.03⋅t    \n",
       "       - 0.0204081632653061⋅ℯ       - 1"
      ]
     },
     "execution_count": 29,
     "metadata": {},
     "output_type": "execute_result"
    }
   ],
   "source": [
    "sol2"
   ]
  },
  {
   "cell_type": "code",
   "execution_count": 30,
   "metadata": {},
   "outputs": [
    {
     "data": {
      "image/png": "[encoded data removed]",
      "text/latex": [
       "$\\displaystyle p{\\left(t \\right)} = - \\frac{7.16723549488055 e^{0.03 t}}{- 0.0238907849829352 e^{0.03 t} - 1}$"
      ],
      "text/plain": [
       "                             0.03⋅t    \n",
       "          -7.16723549488055⋅ℯ          \n",
       "p(t) = ────────────────────────────────\n",
       "                             0.03⋅t    \n",
       "       - 0.0238907849829352⋅ℯ       - 1"
      ]
     },
     "execution_count": 30,
     "metadata": {},
     "output_type": "execute_result"
    }
   ],
   "source": [
    "sol3"
   ]
  },
  {
   "cell_type": "code",
   "execution_count": 31,
   "metadata": {},
   "outputs": [],
   "source": [
    "#Con los siguiente comandos podemos hacer que las soluciones sol1,sol2 y sol3\n",
    "#puedan ser graficadas transformandolas en funciones\n",
    "func1 = sp.lambdify(t,sol1.rhs,'numpy')\n",
    "func2 = sp.lambdify(t,sol2.rhs,'numpy')\n",
    "func3 = sp.lambdify(t,sol3.rhs,'numpy')"
   ]
  },
  {
   "cell_type": "code",
   "execution_count": 37,
   "metadata": {},
   "outputs": [
    {
     "data": {
      "image/png": "[encoded data removed]",
      "text/plain": [
       "<Figure size 640x480 with 1 Axes>"
      ]
     },
     "metadata": {},
     "output_type": "display_data"
    }
   ],
   "source": [
    "#Por ultimo graficamos las soluciones con el siguiente codigo\n",
    "tt = np.arange(0,200,1) #Los primeros numeros represetna el intervalo \n",
    "                        #a tomar del dominio de la función \n",
    "pp1 = func1(tt)\n",
    "pp2 = func2(tt) #Comando para dibujar las funciones\n",
    "pp3 = func3(tt)\n",
    "\n",
    "plt.plot(tt,pp1,'r',tt,pp2,'b',tt,pp3,'g')\n",
    "plt.xlabel('tiempo t') #Comando para agregar nombres a los ejes\n",
    "plt.ylabel('Poblacion p(t)')\n",
    "plt.show() #Mostrar la grafica"
   ]
  },
  {
   "cell_type": "code",
   "execution_count": 40,
   "metadata": {},
   "outputs": [
    {
     "data": {
      "text/plain": [
       "('factorable',\n",
       " 'separable',\n",
       " '1st_exact',\n",
       " 'Bernoulli',\n",
       " '1st_rational_riccati',\n",
       " '1st_power_series',\n",
       " 'lie_group',\n",
       " 'separable_Integral',\n",
       " '1st_exact_Integral',\n",
       " 'Bernoulli_Integral')"
      ]
     },
     "execution_count": 40,
     "metadata": {},
     "output_type": "execute_result"
    }
   ],
   "source": [
    "#Este comando es utilizado para obtener algunos metodos de solucion\n",
    "# de la ED y su clasificación\n",
    "sp.classify_ode(ode)"
   ]
  },
  {
   "cell_type": "code",
   "execution_count": 44,
   "metadata": {},
   "outputs": [
    {
     "data": {
      "image/png": "[encoded data removed]",
      "text/latex": [
       "$\\displaystyle p{\\left(t \\right)} = \\frac{a e^{a \\left(C_{1} + t\\right)}}{b \\left(e^{a \\left(C_{1} + t\\right)} - 1\\right)}$"
      ],
      "text/plain": [
       "             a⋅(C₁ + t)   \n",
       "          a⋅ℯ             \n",
       "p(t) = ───────────────────\n",
       "         ⎛ a⋅(C₁ + t)    ⎞\n",
       "       b⋅⎝ℯ           - 1⎠"
      ]
     },
     "execution_count": 44,
     "metadata": {},
     "output_type": "execute_result"
    }
   ],
   "source": [
    "#Con el siguiente comando podemos verificar si la solución obtenida\n",
    "#satisface la ED\n",
    "sol=sp.dsolve(ode,p(t))\n",
    "sol"
   ]
  },
  {
   "cell_type": "code",
   "execution_count": 45,
   "metadata": {},
   "outputs": [
    {
     "data": {
      "text/plain": [
       "(True, 0)"
      ]
     },
     "execution_count": 45,
     "metadata": {},
     "output_type": "execute_result"
    }
   ],
   "source": [
    "#Si es verdadero el valor entonces nos arroja true\n",
    "#  si no lo es arroja false\n",
    "sp.checkodesol(ode,sol)"
   ]
  },
  {
   "cell_type": "markdown",
   "metadata": {},
   "source": [
    "### *Ecuación de Lagrange"
   ]
  },
  {
   "cell_type": "markdown",
   "metadata": {},
   "source": [
    "$$y=2xy'+log(y')$$"
   ]
  },
  {
   "cell_type": "code",
   "execution_count": 2,
   "metadata": {},
   "outputs": [],
   "source": [
    "#Definimos las variables\n",
    "x=sp.symbols('x')\n",
    "y=sp.Function('y')"
   ]
  },
  {
   "cell_type": "code",
   "execution_count": 4,
   "metadata": {},
   "outputs": [
    {
     "data": {
      "text/plain": [
       "('factorable', 'lie_group')"
      ]
     },
     "execution_count": 4,
     "metadata": {},
     "output_type": "execute_result"
    }
   ],
   "source": [
    "#Importamos la funcion logaritmo para que la reconozca\n",
    "from sympy import log \n",
    "#Agregamos  la ecuacion\n",
    "ode2=sp.Eq(log(sp.Derivative(y(x),x))+2*x*sp.Derivative(y(x),x)-y(x),0)\n",
    "#Le pedimos que clasifique la ecuación\n",
    "sp.classify_ode(ode2)"
   ]
  },
  {
   "cell_type": "code",
   "execution_count": 5,
   "metadata": {},
   "outputs": [],
   "source": [
    "#Resuelve la ecuación\n",
    "sol2 = sp.dsolve(ode2,y(x))"
   ]
  },
  {
   "cell_type": "code",
   "execution_count": 6,
   "metadata": {},
   "outputs": [
    {
     "data": {
      "image/png": "[encoded data removed]",
      "text/latex": [
       "$\\displaystyle C_{1} - y{\\left(x \\right)} - \\log{\\left(W\\left(2 x e^{y{\\left(x \\right)}}\\right) + 2 \\right)} + W\\left(2 x e^{y{\\left(x \\right)}}\\right) = 0$"
      ],
      "text/plain": [
       "               ⎛ ⎛     y(x)⎞    ⎞    ⎛     y(x)⎞    \n",
       "C₁ - y(x) - log⎝W⎝2⋅x⋅ℯ    ⎠ + 2⎠ + W⎝2⋅x⋅ℯ    ⎠ = 0"
      ]
     },
     "execution_count": 6,
     "metadata": {},
     "output_type": "execute_result"
    }
   ],
   "source": [
    "#Muestra la solucióm\n",
    "sol2"
   ]
  },
  {
   "cell_type": "markdown",
   "metadata": {},
   "source": [
    "Donde $W$ es la función de Lambert $W(z)$"
   ]
  },
  {
   "cell_type": "markdown",
   "metadata": {},
   "source": [
    "### *Resonancia"
   ]
  },
  {
   "cell_type": "markdown",
   "metadata": {},
   "source": [
    "$$y''+16y=8sen(4t)$$\n",
    "con\n",
    "$y(0)=1$ , $y'(0)=0$"
   ]
  },
  {
   "cell_type": "code",
   "execution_count": 3,
   "metadata": {},
   "outputs": [],
   "source": [
    "from sympy import * #importamos el operador de multiplicación\n",
    "t=sp.symbols('t')\n",
    "y=sp.Function('y')"
   ]
  },
  {
   "cell_type": "code",
   "execution_count": 4,
   "metadata": {},
   "outputs": [
    {
     "data": {
      "text/plain": [
       "('nth_linear_constant_coeff_undetermined_coefficients',\n",
       " 'nth_linear_constant_coeff_variation_of_parameters',\n",
       " 'nth_linear_constant_coeff_variation_of_parameters_Integral')"
      ]
     },
     "execution_count": 4,
     "metadata": {},
     "output_type": "execute_result"
    }
   ],
   "source": [
    "ode3=sp.Eq(sp.Derivative(y(t),t,t)+16*y(t)-8*sin(4*t),0)\n",
    "sp.classify_ode(ode3)"
   ]
  },
  {
   "cell_type": "code",
   "execution_count": 5,
   "metadata": {},
   "outputs": [],
   "source": [
    "sol3 = sp.dsolve(ode3,y(t))"
   ]
  },
  {
   "cell_type": "code",
   "execution_count": 6,
   "metadata": {},
   "outputs": [
    {
     "data": {
      "image/png": "[encoded data removed]",
      "text/latex": [
       "$\\displaystyle y{\\left(t \\right)} = C_{2} \\sin{\\left(4 t \\right)} + \\left(C_{1} - t\\right) \\cos{\\left(4 t \\right)}$"
      ],
      "text/plain": [
       "y(t) = C₂⋅sin(4⋅t) + (C₁ - t)⋅cos(4⋅t)"
      ]
     },
     "execution_count": 6,
     "metadata": {},
     "output_type": "execute_result"
    }
   ],
   "source": [
    "sol3"
   ]
  },
  {
   "cell_type": "code",
   "execution_count": 7,
   "metadata": {},
   "outputs": [],
   "source": [
    "# Evaluando las condiciones iniciales\n",
    "const=sp.solve([sol3.rhs.subs(t,0)-1, sol3.rhs.diff(t,1).subs(t,0)-0])\n",
    "C1, C2 = sp.symbols('C1,C2')\n",
    "sol3=sol3.subs(const)"
   ]
  },
  {
   "cell_type": "code",
   "execution_count": 8,
   "metadata": {},
   "outputs": [
    {
     "data": {
      "image/png": "[encoded data removed]",
      "text/latex": [
       "$\\displaystyle y{\\left(t \\right)} = \\left(1 - t\\right) \\cos{\\left(4 t \\right)} + \\frac{\\sin{\\left(4 t \\right)}}{4}$"
      ],
      "text/plain": [
       "                          sin(4⋅t)\n",
       "y(t) = (1 - t)⋅cos(4⋅t) + ────────\n",
       "                             4    "
      ]
     },
     "execution_count": 8,
     "metadata": {},
     "output_type": "execute_result"
    }
   ],
   "source": [
    "sol3"
   ]
  },
  {
   "cell_type": "code",
   "execution_count": 10,
   "metadata": {},
   "outputs": [],
   "source": [
    "#Generamos el resultado anterior como función para graficar\n",
    "func1 = sp.lambdify(t,sol3.rhs,'numpy')\n",
    "import scipy\n",
    "xx = np.arange(0,10,.1)\n",
    "yy1 = func1(xx)"
   ]
  },
  {
   "cell_type": "code",
   "execution_count": 12,
   "metadata": {},
   "outputs": [
    {
     "name": "stderr",
     "output_type": "stream",
     "text": [
      "C:\\Users\\Javier\\AppData\\Local\\Temp\\ipykernel_5588\\3674668103.py:2: UserWarning: color is redundantly defined by the 'color' keyword argument and the fmt string \"r\" (-> color=(1.0, 0.0, 0.0, 1)). The keyword argument will take precedence.\n",
      "  plt.plot(xx,yy1,'r', color='green')\n"
     ]
    },
    {
     "data": {
      "image/png": "[encoded data removed]",
      "text/plain": [
       "<Figure size 640x480 with 1 Axes>"
      ]
     },
     "metadata": {},
     "output_type": "display_data"
    }
   ],
   "source": [
    "#Graficamos\n",
    "plt.plot(xx,yy1,'r', color='green') #comando color para ambiar el color de la graf.\n",
    "plt.xlabel('tiempo t') #Titulos de los ejes\n",
    "plt.ylabel('y(t)')\n",
    "plt.show()"
   ]
  },
  {
   "cell_type": "markdown",
   "metadata": {},
   "source": [
    "### *Ecuación de 3er Orden."
   ]
  },
  {
   "cell_type": "markdown",
   "metadata": {},
   "source": [
    "$$y'''-y''-y'+y=g(t)$$"
   ]
  },
  {
   "cell_type": "code",
   "execution_count": 15,
   "metadata": {},
   "outputs": [],
   "source": [
    "#Definimos las variables\n",
    "t=sp.symbols('t')\n",
    "y=sp.Function('y')\n",
    "g=sp.Function('g')"
   ]
  },
  {
   "cell_type": "code",
   "execution_count": 16,
   "metadata": {},
   "outputs": [
    {
     "data": {
      "text/plain": [
       "('factorable',\n",
       " 'nth_linear_constant_coeff_variation_of_parameters',\n",
       " 'nth_linear_constant_coeff_variation_of_parameters_Integral')"
      ]
     },
     "execution_count": 16,
     "metadata": {},
     "output_type": "execute_result"
    }
   ],
   "source": [
    "#Agregamos la ecuacion\n",
    "ode4=sp.Eq(sp.Derivative(y(t),t,3)-sp.Derivative(y(t),t,t)-sp.Derivative(y(t),t)+y(t)-g(t),0)\n",
    "#Aplicamos el comando para observar que clasificacion tiene\n",
    "sp.classify_ode(ode4)"
   ]
  },
  {
   "cell_type": "code",
   "execution_count": 17,
   "metadata": {},
   "outputs": [],
   "source": [
    "#Resolvemos la ecuación\n",
    "sol4 = sp.dsolve(ode4,y(t))"
   ]
  },
  {
   "cell_type": "code",
   "execution_count": 18,
   "metadata": {},
   "outputs": [
    {
     "data": {
      "image/png": "[encoded data removed]",
      "text/latex": [
       "$\\displaystyle y{\\left(t \\right)} = \\left(C_{1} + \\frac{\\int g{\\left(t \\right)} e^{t}\\, dt}{4}\\right) e^{- t} + \\left(C_{2} + t \\left(C_{3} + \\frac{\\int g{\\left(t \\right)} e^{- t}\\, dt}{2}\\right) - \\frac{\\int \\left(2 t + 1\\right) g{\\left(t \\right)} e^{- t}\\, dt}{4}\\right) e^{t}$"
      ],
      "text/plain": [
       "       ⎛     ⌠           ⎞       ⎛       ⎛     ⌠            ⎞   ⌠             \n",
       "       ⎜     ⎮       t   ⎟       ⎜       ⎜     ⎮       -t   ⎟   ⎮             \n",
       "       ⎜     ⎮ g(t)⋅ℯ  dt⎟       ⎜       ⎜     ⎮ g(t)⋅ℯ   dt⎟   ⎮ (2⋅t + 1)⋅g(\n",
       "       ⎜     ⌡           ⎟  -t   ⎜       ⎜     ⌡            ⎟   ⌡             \n",
       "y(t) = ⎜C₁ + ────────────⎟⋅ℯ   + ⎜C₂ + t⋅⎜C₃ + ─────────────⎟ - ──────────────\n",
       "       ⎝          4      ⎠       ⎝       ⎝           2      ⎠              4  \n",
       "\n",
       "         ⎞   \n",
       "    -t   ⎟   \n",
       "t)⋅ℯ   dt⎟   \n",
       "         ⎟  t\n",
       "─────────⎟⋅ℯ \n",
       "         ⎠   "
      ]
     },
     "execution_count": 18,
     "metadata": {},
     "output_type": "execute_result"
    }
   ],
   "source": [
    "#Mostramos el resultado\n",
    "sol4"
   ]
  },
  {
   "cell_type": "markdown",
   "metadata": {},
   "source": [
    "### *Una ecuación homogénea de Cauchy-Euler de cuarto orden"
   ]
  },
  {
   "cell_type": "markdown",
   "metadata": {},
   "source": [
    "$$x^4y^{(4)}(x)+6x^3y^{(3)}(x)+9x^2y''(x)+3xy'(x)+y(x)=0$$"
   ]
  },
  {
   "cell_type": "code",
   "execution_count": 20,
   "metadata": {},
   "outputs": [],
   "source": [
    "#Definimos las variables\n",
    "x=sp.symbols('x')\n",
    "y=sp.Function('y')"
   ]
  },
  {
   "cell_type": "code",
   "execution_count": 23,
   "metadata": {},
   "outputs": [],
   "source": [
    "#Importamos el operador *\n",
    "from sympy import *\n",
    "#Agregamos la ED:\n",
    "ode5=sp.Eq(x**4*sp.Derivative(y(x),x,4)+6*x*x*x*sp.Derivative(y(x),x,3)+ 9*x**2*sp.Derivative(y(x),x,2)+3*x*sp.Derivative(y(x),x)+y(x),0)"
   ]
  },
  {
   "cell_type": "code",
   "execution_count": 24,
   "metadata": {},
   "outputs": [
    {
     "data": {
      "image/png": "[encoded data removed]",
      "text/latex": [
       "$\\displaystyle x^{4} \\frac{d^{4}}{d x^{4}} y{\\left(x \\right)} + 6 x^{3} \\frac{d^{3}}{d x^{3}} y{\\left(x \\right)} + 9 x^{2} \\frac{d^{2}}{d x^{2}} y{\\left(x \\right)} + 3 x \\frac{d}{d x} y{\\left(x \\right)} + y{\\left(x \\right)} = 0$"
      ],
      "text/plain": [
       "     4                3                2                                \n",
       " 4  d             3  d             2  d              d                  \n",
       "x ⋅───(y(x)) + 6⋅x ⋅───(y(x)) + 9⋅x ⋅───(y(x)) + 3⋅x⋅──(y(x)) + y(x) = 0\n",
       "     4                3                2             dx                 \n",
       "   dx               dx               dx                                 "
      ]
     },
     "execution_count": 24,
     "metadata": {},
     "output_type": "execute_result"
    }
   ],
   "source": [
    "ode5"
   ]
  },
  {
   "cell_type": "code",
   "execution_count": 25,
   "metadata": {},
   "outputs": [],
   "source": [
    "sol5=sp.dsolve(ode5,y(x))"
   ]
  },
  {
   "cell_type": "code",
   "execution_count": 26,
   "metadata": {},
   "outputs": [
    {
     "data": {
      "image/png": "[encoded data removed]",
      "text/latex": [
       "$\\displaystyle y{\\left(x \\right)} = C_{3} \\sin{\\left(\\log{\\left(x \\right)} \\right)} + C_{4} \\cos{\\left(\\log{\\left(x \\right)} \\right)} + \\left(C_{1} \\sin{\\left(\\log{\\left(x \\right)} \\right)} + C_{2} \\cos{\\left(\\log{\\left(x \\right)} \\right)}\\right) \\log{\\left(x \\right)}$"
      ],
      "text/plain": [
       "y(x) = C₃⋅sin(log(x)) + C₄⋅cos(log(x)) + (C₁⋅sin(log(x)) + C₂⋅cos(log(x)))⋅log\n",
       "(x)"
      ]
     },
     "execution_count": 26,
     "metadata": {},
     "output_type": "execute_result"
    }
   ],
   "source": [
    "sol5"
   ]
  },
  {
   "cell_type": "code",
   "execution_count": 28,
   "metadata": {},
   "outputs": [
    {
     "data": {
      "text/plain": [
       "(True, 0)"
      ]
     },
     "execution_count": 28,
     "metadata": {},
     "output_type": "execute_result"
    }
   ],
   "source": [
    "#Verificamos si es un resultado para la ED:\n",
    "sp.checkodesol(ode5,sol5)"
   ]
  },
  {
   "cell_type": "markdown",
   "metadata": {},
   "source": [
    "Si sabemos un cambio de variable adecuado que puede simplificar la ED, podemos agregar ese cambio de variable con el siguiente comando:\n"
   ]
  },
  {
   "cell_type": "code",
   "execution_count": 31,
   "metadata": {},
   "outputs": [
    {
     "data": {
      "image/png": "[encoded data removed]",
      "text/latex": [
       "$\\displaystyle x^{n} \\left(n^{2} + 1\\right)^{2} = 0$"
      ],
      "text/plain": [
       "           2    \n",
       " n ⎛ 2    ⎞     \n",
       "x ⋅⎝n  + 1⎠  = 0"
      ]
     },
     "execution_count": 31,
     "metadata": {},
     "output_type": "execute_result"
    }
   ],
   "source": [
    "#un m´etodo de soluci´ on de las ecuaciones de Cauchy \n",
    "# Euler implica la substitucion y = x^n\n",
    "n=sp.symbols('n')\n",
    "eq=simplify(ode5.subs(y(x),x**n))\n",
    "\n",
    "#Imprimimos la ecuación auxiliar:\n",
    "factor(eq)"
   ]
  },
  {
   "cell_type": "code",
   "execution_count": 35,
   "metadata": {},
   "outputs": [
    {
     "data": {
      "image/png": "[encoded data removed]",
      "text/latex": [
       "$\\displaystyle \\log{\\left(x \\right)} = 0$"
      ],
      "text/plain": [
       "log(x) = 0"
      ]
     },
     "execution_count": 35,
     "metadata": {},
     "output_type": "execute_result"
    }
   ],
   "source": [
    "#Probemos el cambio de variable y=log(x)\n",
    "from sympy import log\n",
    "n1=sp.symbols('n1')\n",
    "eq1=simplify(ode5.subs(y(x),log(x)))\n",
    "factor(eq1)"
   ]
  },
  {
   "cell_type": "markdown",
   "metadata": {},
   "source": [
    "### Un problema de valor inicial con deltas de Dirac como fuentes"
   ]
  },
  {
   "cell_type": "markdown",
   "metadata": {},
   "source": [
    "$$y''(t)-4y'(t)+4y(t)=3\\delta(t-1)+\\delta(t-2)$$\n",
    "con\n",
    "$$y(0)=1$$\n",
    "$$y'(0)=1$$"
   ]
  },
  {
   "cell_type": "code",
   "execution_count": 36,
   "metadata": {},
   "outputs": [],
   "source": [
    "#declaramos nuestras variables\n",
    "t=sp.symbols('t')\n",
    "y=sp.Function('y')"
   ]
  },
  {
   "cell_type": "code",
   "execution_count": 37,
   "metadata": {},
   "outputs": [],
   "source": [
    "from sympy import *\n",
    "#esciribimos la ED\n",
    "ode6=sp.Eq(sp.Derivative(y(t),t,2)-4*sp.Derivative(y(t),t)+ 4*y(t),3*DiracDelta(t-1)+DiracDelta(t-2))"
   ]
  },
  {
   "cell_type": "code",
   "execution_count": 38,
   "metadata": {},
   "outputs": [
    {
     "data": {
      "image/png": "[encoded data removed]",
      "text/latex": [
       "$\\displaystyle 4 y{\\left(t \\right)} - 4 \\frac{d}{d t} y{\\left(t \\right)} + \\frac{d^{2}}{d t^{2}} y{\\left(t \\right)} = \\delta\\left(t - 2\\right) + 3 \\delta\\left(t - 1\\right)$"
      ],
      "text/plain": [
       "                        2                              \n",
       "           d           d                               \n",
       "4⋅y(t) - 4⋅──(y(t)) + ───(y(t)) = δ(t - 2) + 3⋅δ(t - 1)\n",
       "           dt           2                              \n",
       "                      dt                               "
      ]
     },
     "execution_count": 38,
     "metadata": {},
     "output_type": "execute_result"
    }
   ],
   "source": [
    "ode6"
   ]
  },
  {
   "cell_type": "code",
   "execution_count": 40,
   "metadata": {},
   "outputs": [],
   "source": [
    "#resolvemos la ED\n",
    "sol6 = sp.dsolve(ode6)"
   ]
  },
  {
   "cell_type": "code",
   "execution_count": 43,
   "metadata": {},
   "outputs": [
    {
     "data": {
      "image/png": "[encoded data removed]",
      "text/latex": [
       "$\\displaystyle y{\\left(t \\right)} = \\left(C_{1} + t \\left(C_{2} + \\frac{\\theta\\left(t - 2\\right)}{e^{4}} + \\frac{3 \\theta\\left(t - 1\\right)}{e^{2}}\\right) - \\frac{2 \\theta\\left(t - 2\\right)}{e^{4}} - \\frac{3 \\theta\\left(t - 1\\right)}{e^{2}}\\right) e^{2 t}$"
      ],
      "text/plain": [
       "       ⎛       ⎛      -4               -2         ⎞      -4               -2  \n",
       "y(t) = ⎝C₁ + t⋅⎝C₂ + ℯ  ⋅θ(t - 2) + 3⋅ℯ  ⋅θ(t - 1)⎠ - 2⋅ℯ  ⋅θ(t - 2) - 3⋅ℯ  ⋅θ\n",
       "\n",
       "       ⎞  2⋅t\n",
       "(t - 1)⎠⋅ℯ   "
      ]
     },
     "execution_count": 43,
     "metadata": {},
     "output_type": "execute_result"
    }
   ],
   "source": [
    "sol6"
   ]
  },
  {
   "cell_type": "code",
   "execution_count": 45,
   "metadata": {},
   "outputs": [
    {
     "data": {
      "image/png": "[encoded data removed]",
      "text/latex": [
       "$\\displaystyle y{\\left(t \\right)} = \\left(t \\left(\\frac{\\theta\\left(t - 2\\right)}{e^{4}} + \\frac{3 \\theta\\left(t - 1\\right)}{e^{2}} - 1\\right) - \\frac{2 \\theta\\left(t - 2\\right)}{e^{4}} - \\frac{3 \\theta\\left(t - 1\\right)}{e^{2}} + 1\\right) e^{2 t}$"
      ],
      "text/plain": [
       "       ⎛  ⎛ -4               -2             ⎞      -4               -2        \n",
       "y(t) = ⎝t⋅⎝ℯ  ⋅θ(t - 2) + 3⋅ℯ  ⋅θ(t - 1) - 1⎠ - 2⋅ℯ  ⋅θ(t - 2) - 3⋅ℯ  ⋅θ(t - 1\n",
       "\n",
       "     ⎞  2⋅t\n",
       ") + 1⎠⋅ℯ   "
      ]
     },
     "execution_count": 45,
     "metadata": {},
     "output_type": "execute_result"
    }
   ],
   "source": [
    "#Evaluamos las condiciones iniciales\n",
    "constants=solve([sol6.rhs.subs(t,0)-1,sol6.rhs.diff(t,1).subs(t,0)-1])\n",
    "#Resolvemos la ED con las condiciones iniciales\n",
    "sol6.subs(constants)"
   ]
  },
  {
   "cell_type": "code",
   "execution_count": null,
   "metadata": {},
   "outputs": [],
   "source": []
  }
 ],
 "metadata": {
  "kernelspec": {
   "display_name": "Python 3 (ipykernel)",
   "language": "python",
   "name": "python3"
  },
  "language_info": {
   "codemirror_mode": {
    "name": "ipython",
    "version": 3
   },
   "file_extension": ".py",
   "mimetype": "text/x-python",
   "name": "python",
   "nbconvert_exporter": "python",
   "pygments_lexer": "ipython3",
   "version": "3.12.4"
  }
 },
 "nbformat": 4,
 "nbformat_minor": 4
}
