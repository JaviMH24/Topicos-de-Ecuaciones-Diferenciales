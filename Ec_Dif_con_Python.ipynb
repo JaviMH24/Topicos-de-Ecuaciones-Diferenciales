{
 "cells": [
  {
   "cell_type": "markdown",
   "metadata": {},
   "source": [
    "## Resolución de Ecuaciones Diferenciales con Python"
   ]
  },
  {
   "cell_type": "markdown",
   "metadata": {},
   "source": [
    "### Ecuación logistica:\n",
    "$$\\frac{dp}{dt}=ap-bp^2$$ \n",
    "con $$p(0)=p_0$$"
   ]
  },
  {
   "cell_type": "markdown",
   "metadata": {},
   "source": [
    "Primero importamos las librerias a utilizar:"
   ]
  },
  {
   "cell_type": "code",
   "execution_count": 2,
   "metadata": {},
   "outputs": [
    {
     "ename": "NameError",
     "evalue": "name 'sympy' is not defined",
     "output_type": "error",
     "traceback": [
      "\u001b[1;31m---------------------------------------------------------------------------\u001b[0m",
      "\u001b[1;31mNameError\u001b[0m                                 Traceback (most recent call last)",
      "Cell \u001b[1;32mIn[2], line 6\u001b[0m\n\u001b[0;32m      4\u001b[0m \u001b[38;5;28;01mimport\u001b[39;00m \u001b[38;5;21;01mscipy\u001b[39;00m  \u001b[38;5;66;03m#libreria para herramientas adicionales, \u001b[39;00m\n\u001b[0;32m      5\u001b[0m                \u001b[38;5;66;03m#estadistica, optimizacion, etc\u001b[39;00m\n\u001b[1;32m----> 6\u001b[0m sympy\u001b[38;5;241m.\u001b[39minit_printing()\n",
      "\u001b[1;31mNameError\u001b[0m: name 'sympy' is not defined"
     ]
    }
   ],
   "source": [
    "import sympy as sp #Libreria calculo simbolico\n",
    "import matplotlib.pyplot as plt #Libreria para graficas\n",
    "import numpy as np #Liberia para calculos numericos\n",
    "import scipy  #libreria para herramientas adicionales, \n",
    "               #estadistica, optimizacion, etc\n",
    "sympy.init_printing() #LIbreria para visualizar las ecuaciones"
   ]
  },
  {
   "cell_type": "code",
   "execution_count": 3,
   "metadata": {},
   "outputs": [
    {
     "ename": "NameError",
     "evalue": "name 'sp' is not defined",
     "output_type": "error",
     "traceback": [
      "\u001b[1;31m---------------------------------------------------------------------------\u001b[0m",
      "\u001b[1;31mNameError\u001b[0m                                 Traceback (most recent call last)",
      "Cell \u001b[1;32mIn[3], line 2\u001b[0m\n\u001b[0;32m      1\u001b[0m \u001b[38;5;66;03m#Agregamos las variables que se encuentran en la ED\u001b[39;00m\n\u001b[1;32m----> 2\u001b[0m p\u001b[38;5;241m=\u001b[39msp\u001b[38;5;241m.\u001b[39mFunction(p) \u001b[38;5;66;03m#variable dependiente de la función\u001b[39;00m\n\u001b[0;32m      3\u001b[0m t\u001b[38;5;241m=\u001b[39msp\u001b[38;5;241m.\u001b[39msymbols(y)  \u001b[38;5;66;03m#variable independiente de la función\u001b[39;00m\n\u001b[0;32m      4\u001b[0m a\u001b[38;5;241m=\u001b[39msp\u001b[38;5;241m.\u001b[39msymbols(a)  \u001b[38;5;66;03m#variables extras\u001b[39;00m\n",
      "\u001b[1;31mNameError\u001b[0m: name 'sp' is not defined"
     ]
    }
   ],
   "source": [
    "#Agregamos las variables que se encuentran en la ED\n",
    "p=sp.Function(p) #variable dependiente de la función\n",
    "t=sp.symbols(y)  #variable independiente de la función\n",
    "a=sp.symbols(a)  #variables extras\n",
    "b=sp.symbols(b)\n",
    "p0=sp.symbols(p0)"
   ]
  },
  {
   "cell_type": "code",
   "execution_count": 1,
   "metadata": {},
   "outputs": [
    {
     "ename": "NameError",
     "evalue": "name 'sp' is not defined",
     "output_type": "error",
     "traceback": [
      "\u001b[1;31m---------------------------------------------------------------------------\u001b[0m",
      "\u001b[1;31mNameError\u001b[0m                                 Traceback (most recent call last)",
      "Cell \u001b[1;32mIn[1], line 1\u001b[0m\n\u001b[1;32m----> 1\u001b[0m ode\u001b[38;5;241m=\u001b[39msp\u001b[38;5;241m.\u001b[39mEq(sp\u001b[38;5;241m.\u001b[39mDerivative(p(t),t)\u001b[38;5;241m-\u001b[39ma\u001b[38;5;241m*\u001b[39mp(t)\u001b[38;5;241m+\u001b[39mb\u001b[38;5;241m*\u001b[39mp(t)\u001b[38;5;241m*\u001b[39mp(t),\u001b[38;5;241m0\u001b[39m) \u001b[38;5;66;03m#comando para escribir la ED\u001b[39;00m\n\u001b[0;32m      2\u001b[0m sol \u001b[38;5;241m=\u001b[39m sp\u001b[38;5;241m.\u001b[39mdsolve(ode,p(t),ics\u001b[38;5;241m=\u001b[39m{p(\u001b[38;5;241m0\u001b[39m):p0})\n",
      "\u001b[1;31mNameError\u001b[0m: name 'sp' is not defined"
     ]
    }
   ],
   "source": [
    " ode=sp.Eq(sp.Derivative(p(t),t)-a*p(t)+b*p(t)*p(t),0) #comando para escribir la ED\n",
    " sol = sp.dsolve(ode,p(t),ics={p(0):p0}) #Resolver la ED con el alor inicial p(0)=0"
   ]
  },
  {
   "cell_type": "code",
   "execution_count": null,
   "metadata": {},
   "outputs": [],
   "source": []
  }
 ],
 "metadata": {
  "kernelspec": {
   "display_name": "base",
   "language": "python",
   "name": "python3"
  },
  "language_info": {
   "codemirror_mode": {
    "name": "ipython",
    "version": 3
   },
   "file_extension": ".py",
   "mimetype": "text/x-python",
   "name": "python",
   "nbconvert_exporter": "python",
   "pygments_lexer": "ipython3",
   "version": "3.12.4"
  }
 },
 "nbformat": 4,
 "nbformat_minor": 2
}
