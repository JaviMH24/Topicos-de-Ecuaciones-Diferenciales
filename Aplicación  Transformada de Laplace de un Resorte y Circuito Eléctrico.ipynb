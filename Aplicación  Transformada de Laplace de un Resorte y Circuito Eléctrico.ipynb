{
 "cells": [
  {
   "cell_type": "markdown",
   "metadata": {},
   "source": [
    "# Ecuaciones Diferenciales con Transformada de Laplace"
   ]
  },
  {
   "cell_type": "code",
   "execution_count": 1,
   "metadata": {},
   "outputs": [],
   "source": [
    "import numpy as np"
   ]
  },
  {
   "cell_type": "code",
   "execution_count": 3,
   "metadata": {},
   "outputs": [],
   "source": [
    "%matplotlib inline\n",
    "%config InlineBackend.figure_format='retina'\n",
    "import matplotlib.pyplot as plt\n",
    "import matplotlib as mpl\n",
    "from sympy import symbols, laplace_transform\n",
    "mpl.rcParams['text.usetex'] = True\n",
    "mpl.rcParams['mathtext.fontset'] = 'stix'\n",
    "mpl.rcParams['font.family'] = 'serif'\n",
    "mpl.rcParams['font.sans-serif'] = 'stix'"
   ]
  },
  {
   "cell_type": "code",
   "execution_count": 4,
   "metadata": {},
   "outputs": [],
   "source": [
    "import sympy\n",
    "sympy.init_printing()"
   ]
  },
  {
   "cell_type": "code",
   "execution_count": 5,
   "metadata": {},
   "outputs": [],
   "source": [
    "from scipy import integrate"
   ]
  },
  {
   "cell_type": "markdown",
   "metadata": {},
   "source": [
    "Ejemplo: Considere la siguirente ecuacuion con condiciones iniciales:\n",
    "$$m\\frac{d^2x}{dt^2}+kx=P_0\\delta(t-t_o) $$\n",
    "$$x(0)=0 , x'(0)=0 $$"
   ]
  },
  {
   "cell_type": "code",
   "execution_count": 162,
   "metadata": {},
   "outputs": [],
   "source": [
    "t = sympy.symbols(\"t\", positive=True) #Definimos cada una de las varaibles como terminos algebraicos haciendo que t sea un numero positivo"
   ]
  },
  {
   "cell_type": "code",
   "execution_count": 164,
   "metadata": {},
   "outputs": [],
   "source": [
    "s, X = sympy.symbols(\"s X\", complex=True) #hacemos que s & Y sean valores reales"
   ]
  },
  {
   "cell_type": "code",
   "execution_count": 170,
   "metadata": {},
   "outputs": [],
   "source": [
    "x = sympy.Function(\"x\") #Hacemos que \"y\" sea una función en terminos de las anteriores variables\n",
    "m,k,P_o,t_o = sympy.symbols(\"m,k,P_o,t_o\", real=True)\n",
    "m=1\n",
    "k=1\n",
    "P_o=10"
   ]
  },
  {
   "cell_type": "code",
   "execution_count": 172,
   "metadata": {},
   "outputs": [],
   "source": [
    "delta=sympy.DiracDelta(t-1)"
   ]
  },
  {
   "cell_type": "code",
   "execution_count": 174,
   "metadata": {},
   "outputs": [],
   "source": [
    "ode =m*x(t).diff(t, 2) + k*x(t)- P_o*delta #Comando para ED"
   ]
  },
  {
   "cell_type": "code",
   "execution_count": 176,
   "metadata": {},
   "outputs": [
    {
     "data": {
      "image/png": "[encoded data removed]",
      "text/latex": [
       "$\\displaystyle x{\\left(t \\right)} - 10 \\delta\\left(t - 1\\right) + \\frac{d^{2}}{d t^{2}} x{\\left(t \\right)}$"
      ],
      "text/plain": [
       "                       2      \n",
       "                      d       \n",
       "x(t) - 10⋅δ(t - 1) + ───(x(t))\n",
       "                       2      \n",
       "                     dt       "
      ]
     },
     "execution_count": 176,
     "metadata": {},
     "output_type": "execute_result"
    }
   ],
   "source": [
    "ode"
   ]
  },
  {
   "cell_type": "code",
   "execution_count": 178,
   "metadata": {},
   "outputs": [],
   "source": [
    "L_x = sympy.laplace_transform(x(t), t, s) #Aplicamos su transformada de Laplace"
   ]
  },
  {
   "cell_type": "code",
   "execution_count": 179,
   "metadata": {},
   "outputs": [
    {
     "data": {
      "image/png": "[encoded data removed]",
      "text/latex": [
       "$\\displaystyle \\left( \\mathcal{L}_{t}\\left[x{\\left(t \\right)}\\right]\\left(s\\right), \\  -\\infty, \\  \\text{True}\\right)$"
      ],
      "text/plain": [
       "(LaplaceTransform(x(t), t, s), -∞, True)"
      ]
     },
     "execution_count": 179,
     "metadata": {},
     "output_type": "execute_result"
    }
   ],
   "source": [
    "L_x"
   ]
  },
  {
   "cell_type": "code",
   "execution_count": 181,
   "metadata": {},
   "outputs": [],
   "source": [
    "#L_ode = sympy.laplace_transform(ode, t, s, noconds=True)\n",
    "L_ode= sympy.laplace_transform(ode, t, s)"
   ]
  },
  {
   "cell_type": "code",
   "execution_count": 183,
   "metadata": {},
   "outputs": [
    {
     "data": {
      "image/png": "[encoded data removed]",
      "text/latex": [
       "$\\displaystyle \\left( s^{2} \\mathcal{L}_{t}\\left[x{\\left(t \\right)}\\right]\\left(s\\right) - s x{\\left(0 \\right)} + \\mathcal{L}_{t}\\left[x{\\left(t \\right)}\\right]\\left(s\\right) - \\left. \\frac{d}{d t} x{\\left(t \\right)} \\right|_{\\substack{ t=0 }} - 10 e^{- s}, \\  -\\infty, \\  \\text{True}\\right)$"
      ],
      "text/plain": [
       "⎛ 2                                                                        ⎛d \n",
       "⎜s ⋅LaplaceTransform(x(t), t, s) - s⋅x(0) + LaplaceTransform(x(t), t, s) - ⎜──\n",
       "⎝                                                                          ⎝dt\n",
       "\n",
       "      ⎞│          -s          ⎞\n",
       "(x(t))⎟│    - 10⋅ℯ  , -∞, True⎟\n",
       "      ⎠│t=0                   ⎠"
      ]
     },
     "execution_count": 183,
     "metadata": {},
     "output_type": "execute_result"
    }
   ],
   "source": [
    "L_ode"
   ]
  },
  {
   "cell_type": "markdown",
   "metadata": {},
   "source": [
    "### **Documentación**"
   ]
  },
  {
   "cell_type": "markdown",
   "metadata": {},
   "source": [
    "Los codigos anteriores utilizan la función `sympy.laplace_transform` de **SymPy** para calcular la **transformada de Laplace**, pero operan sobre diferentes expresiones matemáticas.\n"
   ]
  },
  {
   "cell_type": "markdown",
   "metadata": {},
   "source": [
    "\r\n",
    "\r\n",
    "### Código 1:\r\n",
    "```python\r\n",
    "L_y = sympy.laplace_transform(y(t), t, s)\r\n",
    "```\r\n",
    "\r\n",
    "#### Explicación:\r\n",
    "- **Entrada**:\r\n",
    "  - `y(t)`: Es una función simbólica dependiente de \\( t \\), como \\( y(t) \\).\r\n",
    "  - `t`: La variable independiente del tiempo en \\( y(t) \\).\r\n",
    "  - `s`: La variable del dominio de Laplace.\r\n",
    "\r\n",
    "- **Salida**:\r\n",
    "  - Calcula la transformada de Laplace de la función \\( y(t) \\), que está definida como:\r\n",
    "    \\[\r\n",
    "    \\mathcal{L}\\{y(t)\\}(s) = \\int_0^\\infty y(t) e^{-st} dt\r\n",
    "    \\]\r\n",
    "\r\n",
    "- **Propósito**:\r\n",
    "  - Este código se centra en obtener la transformada de Laplace de una **función específica**, como una entrada oda de un sistema.\r\n",
    "\r\n",
    "---\r\n",
    "\r\n",
    "### Código 2:\r\n",
    "```python\r\n",
    "L_ode = sympy.laplace_transform(ode, t, s)\r\n",
    "```\r\n",
    "\r\n",
    "#### Explicación:\r\n",
    "- **Entrada**:\r\n",
    "  - `ode`: Una ecuación diferencial simbólica en términos de \\( y(t) \\) y sus derivadas, como:\r\n",
    "    \\[\r\n",
    "    \\text{ode} = y''(t) + 2y'(t) + y(t) = f(t)\r\n",
    "    \\]\r\n",
    "  - `t`: La variable independiente del tiempo.\r\n",
    "  - `s`nde \\( Y(s) \\) es la transformada de \\( y(t) \\).\r\n",
    "\r\n",
    "- **Propósito**:\r\n",
    "  - Este código es útil para resolver **ecuaciones diferenciales** en el dominio de Laplace a_ode)\r\n",
    "```\r\n",
    "**Salida**:\r\n",
    "Transforma cada término de la ecuación diferencial al dominio \\( s \\).\n"
   ]
  },
  {
   "cell_type": "code",
   "execution_count": 188,
   "metadata": {},
   "outputs": [],
   "source": [
    "def laplace_transform_derivatives(e):\n",
    "    \"\"\"\n",
    "    Evaluate the laplace transforms of derivatives of functions\n",
    "    \"\"\"\n",
    "    if isinstance(e, sympy.LaplaceTransform):\n",
    "        if isinstance(e.args[0], sympy.Derivative):\n",
    "            d, t, s = e.args\n",
    "            n = d.args[1][1]\n",
    "            return ((s**n) * sympy.LaplaceTransform(d.args[0], t, s) - \n",
    "                    sum([s**(n-i) * sympy.diff(d.args[0], t, i-1).subs(t, 0)\n",
    "                         for i in range(1, n+1)]))\n",
    "        \n",
    "    if isinstance(e, (sympy.Add, sympy.Mul)):\n",
    "        t = type(e)\n",
    "        return t(*[laplace_transform_derivatives(arg) for arg in e.args])\n",
    "    \n",
    "    return e"
   ]
  },
  {
   "cell_type": "markdown",
   "metadata": {},
   "source": [
    "### **Documentación**"
   ]
  },
  {
   "cell_type": "markdown",
   "metadata": {},
   "source": [
    "La función anterior está diseñada para manejar y evaluar la  transformada de Laplacede derivadas simbólicas en expresiones dadas."
   ]
  },
  {
   "cell_type": "markdown",
   "metadata": {},
   "source": [
    "\r\n",
    "\r\n",
    "### Propósito:\r\n",
    "La función aplica las propiedades de la transformada de Laplace a derivadas simbólicas dentro de una expresión. Recordemos que la transformada de Laplace de la \\( n \\)-ésima derivada de \\( f(t) \\) está dada por:\r\n",
    "\r\n",
    "\\[\r\n",
    "\\mathcal{L}\\{f^{(n)}(t)\\} = s^n \\mathcal{L}\\{f(t)\\} - \\sum_{k=0}^{n-1} s^{n-k-1} f^{(k)}(0)\r\n",
    "\\]\r\n",
    "\r\n",
    "Donde \\( f^{(k)}(0) \\) son los valores iniciales de las derivadas hasta el orden \\( n-1 \\). La función implementa este resultado de forma simbólica.\r\n",
    "\r\n",
    "---\r\n",
    "\r\n",
    "### Análisis del código:\r\n",
    "\r\n",
    "#### 1. **Manejo de transformadas de derivadas**:\r\n",
    "```python\r\n",
    "if isinstance(e, sympy.LaplaceTransform):\r\n",
    "    if isinstance(e.args[0], sympy.Derivative):\r\n",
    "        d, t, s = e.args\r\n",
    "        n = d.args[1][1]\r\n",
    "        return ((s**n) * sympy.LaplaceTransform(d.args[0], t, s) - \r\n",
    "                sum([s**(n-i) * sympy.diff(d.args[0], t, i-1).subs(t, 0)\r\n",
    "                     for i in range(1, n+1)]))\r\n",
    "```\r\n",
    "\r\n",
    "- **`sympy.LaplaceTransform`**:\r\n",
    "  - Detecta si el término actual es una transformada de Laplace (`e` es una instancia de `sympy.LaplaceTransform`).\r\n",
    "  \r\n",
    "- **`sympy.Derivative`**:\r\n",
    "  - Comprueba si el argumento dentro de la transformada (\\( e.args[0] \\)) es una derivada simbólica.\r\n",
    "  \r\n",
    "- **Transformada de la derivada**:\r\n",
    "  - Si es una derivada \\( f^{(n)}(t) \\):\r\n",
    "    - `n = d.args[1][1]`: Obtiene el orden \\( n \\) de la derivada.\r\n",
    "    - Calcula:\r\n",
    "      \\[\r\n",
    "      s^n \\mathcal{L}\\{f(t)\\} - \\sum_{i=1}^n s^{n-i} f^{(i-1)}(0)\r\n",
    "      \\]\r\n",
    "      Usando:\r\n",
    "      - `sympy.diff(d.args[0], t, i-1)`: Calcula la derivada simbólica de \\( f(t) \\).\r\n",
    "      - `.subs(t, 0)`: Evalúa cada derivada inicial en \\( t = 0 \\).\r\n",
    "\r\n",
    "#### 2. **Manejo de expresiones algebraicas**:\r\n",
    "```python\r\n",
    "if isinstance(e, (sympy.Add, sympy.Mul)):\r\n",
    "    t = type(e)\r\n",
    "    return t(*[laplace_transform_derivatives(arg) for arg in e.args])\r\n",
    "```\r\n",
    "\r\n",
    "- Si la expresión es una suma (`sympy.Add`) o un producto (`sympy.Mul`):\r\n",
    "  - Aplica `laplace_transform_derivatives` recursivamente a cada término (\\( e.args \\)).\r\n",
    "  - Reconstruye la expresión con la misma operación (suma o producto).\r\n",
    "\r\n",
    "#### 3. **Otros casos**:\r\n",
    "```python\r\n",
    "return e\r\n",
    "```\r\n",
    "\r\n",
    "- Si el término no es una transformada de Laplace o esolver ecuaciones diferenciales en el dominio de Laplace aplicando propiedades de las derivadas.\n"
   ]
  },
  {
   "cell_type": "code",
   "execution_count": 194,
   "metadata": {},
   "outputs": [
    {
     "data": {
      "image/png": "[encoded data removed]",
      "text/latex": [
       "$\\displaystyle \\left( s^{2} \\mathcal{L}_{t}\\left[x{\\left(t \\right)}\\right]\\left(s\\right) - s x{\\left(0 \\right)} + \\mathcal{L}_{t}\\left[x{\\left(t \\right)}\\right]\\left(s\\right) - \\left. \\frac{d}{d t} x{\\left(t \\right)} \\right|_{\\substack{ t=0 }} - 10 e^{- s}, \\  -\\infty, \\  \\text{True}\\right)$"
      ],
      "text/plain": [
       "⎛ 2                                                                        ⎛d \n",
       "⎜s ⋅LaplaceTransform(x(t), t, s) - s⋅x(0) + LaplaceTransform(x(t), t, s) - ⎜──\n",
       "⎝                                                                          ⎝dt\n",
       "\n",
       "      ⎞│          -s          ⎞\n",
       "(x(t))⎟│    - 10⋅ℯ  , -∞, True⎟\n",
       "      ⎠│t=0                   ⎠"
      ]
     },
     "execution_count": 194,
     "metadata": {},
     "output_type": "execute_result"
    }
   ],
   "source": [
    "L_ode"
   ]
  },
  {
   "cell_type": "code",
   "execution_count": 195,
   "metadata": {},
   "outputs": [],
   "source": [
    "# Obtener la expresión de la transformada de Laplace (el primer elemento del resultado)\n",
    "L_x_expr = L_x[0]  # El primer elemento de la tupla devuelta por LaplaceTransform\n",
    "\n",
    "# Ahora sustituimos L_y_expr por Y en la ecuación\n",
    "L_ode_3 = L_ode[0].subs(L_x_expr, X)"
   ]
  },
  {
   "cell_type": "code",
   "execution_count": 196,
   "metadata": {},
   "outputs": [
    {
     "data": {
      "image/png": "[encoded data removed]",
      "text/latex": [
       "$\\displaystyle X s^{2} + X - s x{\\left(0 \\right)} - \\left. \\frac{d}{d t} x{\\left(t \\right)} \\right|_{\\substack{ t=0 }} - 10 e^{- s}$"
      ],
      "text/plain": [
       "   2                ⎛d       ⎞│          -s\n",
       "X⋅s  + X - s⋅x(0) - ⎜──(x(t))⎟│    - 10⋅ℯ  \n",
       "                    ⎝dt      ⎠│t=0         "
      ]
     },
     "execution_count": 196,
     "metadata": {},
     "output_type": "execute_result"
    }
   ],
   "source": [
    "L_ode_3"
   ]
  },
  {
   "cell_type": "code",
   "execution_count": 197,
   "metadata": {},
   "outputs": [],
   "source": [
    "ics = {x(0): 0, x(t).diff(t).subs(t, 0): 0} #COmando para agregar condiciiones iniciales"
   ]
  },
  {
   "cell_type": "code",
   "execution_count": 198,
   "metadata": {},
   "outputs": [
    {
     "data": {
      "image/png": "[encoded data removed]",
      "text/latex": [
       "$\\displaystyle \\left\\{ x{\\left(0 \\right)} : 0, \\  \\left. \\frac{d}{d t} x{\\left(t \\right)} \\right|_{\\substack{ t=0 }} : 0\\right\\}$"
      ],
      "text/plain": [
       "⎧         ⎛d       ⎞│      ⎫\n",
       "⎨x(0): 0, ⎜──(x(t))⎟│   : 0⎬\n",
       "⎩         ⎝dt      ⎠│t=0   ⎭"
      ]
     },
     "execution_count": 198,
     "metadata": {},
     "output_type": "execute_result"
    }
   ],
   "source": [
    "ics"
   ]
  },
  {
   "cell_type": "code",
   "execution_count": 199,
   "metadata": {},
   "outputs": [],
   "source": [
    "L_ode_4 = L_ode_3.subs(ics) #Sustituye los valores iniciales en la ED L_ode_3"
   ]
  },
  {
   "cell_type": "code",
   "execution_count": 200,
   "metadata": {},
   "outputs": [
    {
     "data": {
      "image/png": "[encoded data removed]",
      "text/latex": [
       "$\\displaystyle X s^{2} + X - 10 e^{- s}$"
      ],
      "text/plain": [
       "   2           -s\n",
       "X⋅s  + X - 10⋅ℯ  "
      ]
     },
     "execution_count": 200,
     "metadata": {},
     "output_type": "execute_result"
    }
   ],
   "source": [
    "L_ode_4"
   ]
  },
  {
   "cell_type": "code",
   "execution_count": 201,
   "metadata": {},
   "outputs": [],
   "source": [
    "X_sol = sympy.solve(L_ode_4,X)"
   ]
  },
  {
   "cell_type": "code",
   "execution_count": 202,
   "metadata": {},
   "outputs": [
    {
     "data": {
      "image/png": "[encoded data removed]",
      "text/latex": [
       "$\\displaystyle \\left[ \\frac{10 e^{- s}}{s^{2} + 1}\\right]$"
      ],
      "text/plain": [
       "⎡    -s⎤\n",
       "⎢10⋅ℯ  ⎥\n",
       "⎢──────⎥\n",
       "⎢ 2    ⎥\n",
       "⎣s  + 1⎦"
      ]
     },
     "execution_count": 202,
     "metadata": {},
     "output_type": "execute_result"
    }
   ],
   "source": [
    "X_sol #Muesta la solución a la ED, sin embargo cuando aparece un cuadrito significa que la ED no tiene solución por este metodo"
   ]
  },
  {
   "cell_type": "code",
   "execution_count": 205,
   "metadata": {},
   "outputs": [],
   "source": [
    "x_sol = sympy.inverse_laplace_transform(X_sol[0], s, t)"
   ]
  },
  {
   "cell_type": "code",
   "execution_count": 208,
   "metadata": {},
   "outputs": [
    {
     "data": {
      "image/png": "[encoded data removed]",
      "text/latex": [
       "$\\displaystyle 10 \\sin{\\left(t - 1 \\right)} \\theta\\left(t - 1\\right)$"
      ],
      "text/plain": [
       "10⋅sin(t - 1)⋅θ(t - 1)"
      ]
     },
     "execution_count": 208,
     "metadata": {},
     "output_type": "execute_result"
    }
   ],
   "source": [
    "x_sol"
   ]
  },
  {
   "cell_type": "markdown",
   "metadata": {},
   "source": [
    "### **Documentación**\n",
    "\n",
    "El código `sympy.simplify(y_sol).evalf()` realiza dos acciones principales sobre la expresión `y_sol`:\r\n",
    "\r\n",
    "1. **`sympy.simplify(y_sol)`**:\r\n",
    "   - Intenta simplificar la expresión simbólica `y_sol` para reducirla a una forma más compacta o más fácil de interpretar.  \r\n",
    "   - Esto puede incluir combinar términos similares, factorizar, expandir, eliminar denominadores comunes, etc.  \r\n",
    "   - **Ejemplo:**\r\n",
    "     ```python\r\n",
    "     from sympy import simplify, symbols\r\n",
    "     x = symbols('x')\r\n",
    "     expr = (x**2 + 2*x + 1) / (x + 1)\r\n",
    "     print(simplify(expr))  # Resultado: x + 1\r\n",
    "     ```\r\n",
    "\r\n",
    "2. **`.evalf()`**:\r\n",
    "   - Evalúa la expresión simbólica en forma numérica, es decir, aproxima los valores exactos a números decimales flotantes con cierta precisión.  \r\n",
    "   - Se utiliza cuando necesitas resultados numéricos en lugar de valores simbólicos.  \r\n",
    "   - **Ejemplo:**\r\n",
    "     ```python\r\n",
    "     from sympy import symbols, pi\r\n",
    "     print(pi.evalf())  # Resultado: 3.1415to claridad como precisión numérica en los resultados."
   ]
  },
  {
   "cell_type": "code",
   "execution_count": 214,
   "metadata": {},
   "outputs": [],
   "source": [
    "x_t = sympy.lambdify(t, x_sol.evalf(), 'numpy')"
   ]
  },
  {
   "cell_type": "code",
   "execution_count": 216,
   "metadata": {},
   "outputs": [
    {
     "data": {
      "text/plain": [
       "<function _lambdifygenerated(t)>"
      ]
     },
     "execution_count": 216,
     "metadata": {},
     "output_type": "execute_result"
    }
   ],
   "source": [
    "x_t"
   ]
  },
  {
   "cell_type": "markdown",
   "metadata": {},
   "source": [
    "### **Documentación**\n",
    "La función `` y_t = sympy.lambdify(t, y_sol.evalf(), 'numpy') ``\n",
    "Crea una función de Python que depende de la variable t.\n",
    "Toma la expresión simbólica y la convierte en una función utilizable para cálculos numéricos."
   ]
  },
  {
   "cell_type": "code",
   "execution_count": 228,
   "metadata": {},
   "outputs": [
    {
     "data": {
      "image/png": "[encoded data removed]",
      "text/plain": [
       "<Figure size 800x400 with 1 Axes>"
      ]
     },
     "metadata": {
      "image/png": {
       "height": 391,
       "width": 787
      }
     },
     "output_type": "display_data"
    }
   ],
   "source": [
    "import matplotlib.pyplot as plt\n",
    "from matplotlib import rc\n",
    "\n",
    "rc(\"text\", usetex=False)  # Desactiva el uso de LaTeX\n",
    "\n",
    "fig, ax = plt.subplots(figsize=(8, 4))\n",
    "tt = np.linspace(0, 5, 100)\n",
    "ax.plot(tt, x_t(tt).real)\n",
    "ax.set_xlabel(r\"$t$\", fontsize=18)  # Todavía puedes usar texto matemático, pero sin LaTeX\n",
    "ax.set_ylabel(r\"$y(t)$\", fontsize=18)\n",
    "fig.tight_layout()\n",
    "plt.show()\n"
   ]
  },
  {
   "cell_type": "code",
   "execution_count": null,
   "metadata": {},
   "outputs": [],
   "source": []
  }
 ],
 "metadata": {
  "kernelspec": {
   "display_name": "Python 3 (ipykernel)",
   "language": "python",
   "name": "python3"
  },
  "language_info": {
   "codemirror_mode": {
    "name": "ipython",
    "version": 3
   },
   "file_extension": ".py",
   "mimetype": "text/x-python",
   "name": "python",
   "nbconvert_exporter": "python",
   "pygments_lexer": "ipython3",
   "version": "3.12.4"
  }
 },
 "nbformat": 4,
 "nbformat_minor": 4
}
