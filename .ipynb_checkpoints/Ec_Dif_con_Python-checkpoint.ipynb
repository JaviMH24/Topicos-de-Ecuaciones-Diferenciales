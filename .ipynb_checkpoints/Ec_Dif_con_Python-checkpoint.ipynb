{
 "cells": [
  {
   "cell_type": "markdown",
   "metadata": {},
   "source": [
    "## Resolución de Ecuaciones Diferenciales con Python"
   ]
  },
  {
   "cell_type": "markdown",
   "metadata": {},
   "source": [
    "### Ecuación logistica:\n",
    "$$\\frac{dp}{dt}=ap-bp^2$$ \n",
    "con $$p(0)=p_0$$"
   ]
  },
  {
   "cell_type": "markdown",
   "metadata": {},
   "source": [
    "Primero importamos las librerias a utilizar:"
   ]
  },
  {
   "cell_type": "code",
   "execution_count": 6,
   "metadata": {},
   "outputs": [],
   "source": [
    "import sympy as sp #Libreria calculo simbolico\n",
    "import matplotlib.pyplot as plt #Libreria para graficas\n",
    "import numpy as np #Liberia para calculos numericos\n",
    "import scipy  #libreria para herramientas adicionales, \n",
    "               #estadistica, optimizacion, etc\n",
    "sp.init_printing() #LIbreria para visualizar las ecuaciones"
   ]
  },
  {
   "cell_type": "code",
   "execution_count": 10,
   "metadata": {},
   "outputs": [],
   "source": [
    "#Agregamos las variables que se encuentran en la ED\n",
    "p=sp.Function('p') #variable dependiente de la función\n",
    "t=sp.symbols('t')  #variable independiente de la función\n",
    "a=sp.symbols('a')  #variables extras\n",
    "b=sp.symbols('b')\n",
    "p0=sp.symbols('p0')"
   ]
  },
  {
   "cell_type": "code",
   "execution_count": 12,
   "metadata": {},
   "outputs": [],
   "source": [
    " ode=sp.Eq(sp.Derivative(p(t),t)-a*p(t)+b*p(t)*p(t),0) #comando para escribir la ED\n",
    " sol = sp.dsolve(ode,p(t),ics={p(0):p0}) #Resolver la ED con el alor inicial p(0)=0"
   ]
  },
  {
   "cell_type": "code",
   "execution_count": 16,
   "metadata": {},
   "outputs": [
    {
     "data": {
      "image/png": "[encoded data removed]",
      "text/latex": [
       "$\\displaystyle p{\\left(t \\right)} = \\frac{a e^{a \\left(t + \\frac{\\log{\\left(\\frac{b p_{0}}{- a + b p_{0}} \\right)}}{a}\\right)}}{b \\left(e^{a \\left(t + \\frac{\\log{\\left(\\frac{b p_{0}}{- a + b p_{0}} \\right)}}{a}\\right)} - 1\\right)}$"
      ],
      "text/plain": [
       "               ⎛       ⎛   b⋅p₀  ⎞⎞   \n",
       "               ⎜    log⎜─────────⎟⎟   \n",
       "               ⎜       ⎝-a + b⋅p₀⎠⎟   \n",
       "             a⋅⎜t + ──────────────⎟   \n",
       "               ⎝          a       ⎠   \n",
       "          a⋅ℯ                         \n",
       "p(t) = ───────────────────────────────\n",
       "         ⎛   ⎛       ⎛   b⋅p₀  ⎞⎞    ⎞\n",
       "         ⎜   ⎜    log⎜─────────⎟⎟    ⎟\n",
       "         ⎜   ⎜       ⎝-a + b⋅p₀⎠⎟    ⎟\n",
       "         ⎜ a⋅⎜t + ──────────────⎟    ⎟\n",
       "         ⎜   ⎝          a       ⎠    ⎟\n",
       "       b⋅⎝ℯ                       - 1⎠"
      ]
     },
     "execution_count": 16,
     "metadata": {},
     "output_type": "execute_result"
    }
   ],
   "source": [
    "sol #imprimimos el resultado obtenido"
   ]
  },
  {
   "cell_type": "code",
   "execution_count": null,
   "metadata": {},
   "outputs": [],
   "source": []
  }
 ],
 "metadata": {
  "kernelspec": {
   "display_name": "Python 3 (ipykernel)",
   "language": "python",
   "name": "python3"
  },
  "language_info": {
   "codemirror_mode": {
    "name": "ipython",
    "version": 3
   },
   "file_extension": ".py",
   "mimetype": "text/x-python",
   "name": "python",
   "nbconvert_exporter": "python",
   "pygments_lexer": "ipython3",
   "version": "3.12.4"
  }
 },
 "nbformat": 4,
 "nbformat_minor": 4
}
