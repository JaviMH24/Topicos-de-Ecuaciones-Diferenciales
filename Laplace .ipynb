{
 "cells": [
  {
   "cell_type": "markdown",
   "metadata": {},
   "source": [
    "## Transformada de Laplace con SymPy\n",
    "\n",
    "**Definición.** Se define la Transformada de Laplace de la siguiente manera:\n",
    "\n",
    "$$\\mathcal{L}\\{f(t)\\} = \\int_0^\\infty f(t) e^{-st} \\mathrm{d}s $$"
   ]
  },
  {
   "cell_type": "code",
   "execution_count": 7,
   "metadata": {},
   "outputs": [],
   "source": [
    "import sympy\n",
    "sympy.init_printing() #Codigo para visualizar de una manera correcta las expresiones en formato latex"
   ]
  },
  {
   "cell_type": "code",
   "execution_count": 8,
   "metadata": {},
   "outputs": [],
   "source": [
    "import matplotlib.pyplot as plt #libreria para graficas\n",
    "%matplotlib inline"
   ]
  },
  {
   "cell_type": "code",
   "execution_count": 9,
   "metadata": {},
   "outputs": [],
   "source": [
    "t, s = sympy.symbols('t, s') #Definimos a t,s,a como terminos algebraicos\n",
    "a = sympy.symbols('a', real=True, positive=True)#hago que \"a\" sea un numero real y solo positivo"
   ]
  },
  {
   "cell_type": "code",
   "execution_count": 10,
   "metadata": {},
   "outputs": [
    {
     "data": {
      "image/png": "[encoded data removed]",
      "text/latex": [
       "$\\displaystyle e^{- a t}$"
      ],
      "text/plain": [
       " -a⋅t\n",
       "ℯ    "
      ]
     },
     "execution_count": 10,
     "metadata": {},
     "output_type": "execute_result"
    }
   ],
   "source": [
    "f = sympy.exp(-a*t) #comando para utilizar la funcion exponencial en simpy\n",
    "f"
   ]
  },
  {
   "cell_type": "markdown",
   "metadata": {},
   "source": [
    "Podemos evaluar usando `integrate`:"
   ]
  },
  {
   "cell_type": "code",
   "execution_count": null,
   "metadata": {},
   "outputs": [],
   "source": [
    "sympy.integrate(f*sympy.exp(-s*t), (t, 0, sympy.oo))"
   ]
  },
  {
   "cell_type": "markdown",
   "metadata": {},
   "source": [
    "### Documentación. `sympy.oo` en SymPy).\r\n",
    "\r\n",
    " anterior### Resultado:\r\n",
    "El código devuelve la **transformada de Laplace simbólica** de \\( f(t) \\)aplicando el comando integrate, donde:\n",
    "\n",
    "**Parámetros**:\n",
    "   - `f`: Es una función simbólica o expresión en términos de \\( t \\).\n",
    "   - `s`: Es el parámetro de la transformada de Laplace.\n",
    "   - `(t, 0, sympy.oo)`: Define el intervalo de integración para \\( t \\), que va de \\( 0 \\) a \\( \\infty \\) (representado por `sympy.oo` en SymPy). transformada de Laplace de \\( t^2 \\).transformada de Laplace de \\( t^2 \\)."
   ]
  },
  {
   "cell_type": "markdown",
   "metadata": {},
   "source": [
    "### Librería"
   ]
  },
  {
   "cell_type": "code",
   "execution_count": 22,
   "metadata": {},
   "outputs": [
    {
     "data": {
      "image/png": "[encoded data removed]",
      "text/latex": [
       "$\\displaystyle \\left( \\frac{1}{a + s}, \\  - a, \\  \\text{True}\\right)$"
      ],
      "text/plain": [
       "⎛  1            ⎞\n",
       "⎜─────, -a, True⎟\n",
       "⎝a + s          ⎠"
      ]
     },
     "execution_count": 22,
     "metadata": {},
     "output_type": "execute_result"
    }
   ],
   "source": [
    "sympy.laplace_transform(f, t, s) #Esta función clacula de forma directa la transfoemada de laplace sin recurrir al anterior codigo"
   ]
  },
  {
   "cell_type": "markdown",
   "metadata": {},
   "source": [
    "El resultado total aparece con tres valores: \n",
    "\n",
    "-El primero, es el resultado de la transformada.\n",
    "-El segundo, es la condición donde es válida la función y existe es decir para que no se indetermine el denominador\n",
    "-El tercero, mientras que se cumpla la segunda condición entonces el resultado es válido."
   ]
  },
  {
   "cell_type": "markdown",
   "metadata": {},
   "source": [
    "Si solo queremos la función, usamos `noconds=True`."
   ]
  },
  {
   "cell_type": "code",
   "execution_count": 28,
   "metadata": {},
   "outputs": [
    {
     "data": {
      "image/png": "[encoded data removed]",
      "text/latex": [
       "$\\displaystyle \\frac{1}{a + s}$"
      ],
      "text/plain": [
       "  1  \n",
       "─────\n",
       "a + s"
      ]
     },
     "execution_count": 28,
     "metadata": {},
     "output_type": "execute_result"
    }
   ],
   "source": [
    "F = sympy.laplace_transform(f, t, s, noconds=True) #noconds genera el resultado sin las condiciones dadas anteriormente\n",
    "F"
   ]
  },
  {
   "cell_type": "markdown",
   "metadata": {},
   "source": [
    "Para hacerlo más rápido:"
   ]
  },
  {
   "cell_type": "code",
   "execution_count": 30,
   "metadata": {},
   "outputs": [],
   "source": [
    "def L(f): #Creamos estas dos funciones solo para mandarlas a llamar y no escribir toda la linea de código a generar\n",
    "    return sympy.laplace_transform(f, t, s, noconds=True)"
   ]
  },
  {
   "cell_type": "code",
   "execution_count": 36,
   "metadata": {},
   "outputs": [],
   "source": [
    "def invL(F): #función para calcular la transformada inversa\n",
    "    return sympy.inverse_laplace_transform(F, s, t)"
   ]
  },
  {
   "cell_type": "code",
   "execution_count": 38,
   "metadata": {},
   "outputs": [
    {
     "data": {
      "image/png": "[encoded data removed]",
      "text/latex": [
       "$\\displaystyle e^{- a t} \\theta\\left(t\\right)$"
      ],
      "text/plain": [
       " -a⋅t     \n",
       "ℯ    ⋅θ(t)"
      ]
     },
     "execution_count": 38,
     "metadata": {},
     "output_type": "execute_result"
    }
   ],
   "source": [
    "invL(F)"
   ]
  },
  {
   "cell_type": "markdown",
   "metadata": {},
   "source": [
    "### Función Escalón"
   ]
  },
  {
   "cell_type": "code",
   "execution_count": 45,
   "metadata": {},
   "outputs": [
    {
     "data": {
      "image/png": "[encoded data removed]",
      "text/latex": [
       "$\\displaystyle \\theta\\left(t\\right)$"
      ],
      "text/plain": [
       "θ(t)"
      ]
     },
     "execution_count": 45,
     "metadata": {},
     "output_type": "execute_result"
    }
   ],
   "source": [
    "sympy.Heaviside(t) #Comando para utilizar la función de Heaviside"
   ]
  },
  {
   "cell_type": "code",
   "execution_count": 47,
   "metadata": {},
   "outputs": [
    {
     "data": {
      "image/png": "[encoded data removed]",
      "text/plain": [
       "<Figure size 640x480 with 1 Axes>"
      ]
     },
     "metadata": {},
     "output_type": "display_data"
    }
   ],
   "source": [
    "sympy.plot(sympy.Heaviside(t)); #Imprimir la función"
   ]
  },
  {
   "cell_type": "code",
   "execution_count": 53,
   "metadata": {},
   "outputs": [
    {
     "data": {
      "image/png": "[encoded data removed]",
      "text/latex": [
       "$\\displaystyle e^{- 2 t} \\theta\\left(t\\right)$"
      ],
      "text/plain": [
       " -2⋅t     \n",
       "ℯ    ⋅θ(t)"
      ]
     },
     "execution_count": 53,
     "metadata": {},
     "output_type": "execute_result"
    }
   ],
   "source": [
    "invL(F).subs({a: 2}) #Comando para evaluar el valor de la variable a, utilizada en la linea 38"
   ]
  },
  {
   "cell_type": "code",
   "execution_count": 55,
   "metadata": {},
   "outputs": [
    {
     "data": {
      "image/png": "[encoded data removed]",
      "text/plain": [
       "<Figure size 640x480 with 1 Axes>"
      ]
     },
     "metadata": {},
     "output_type": "display_data"
    }
   ],
   "source": [
    "p = sympy.plot(f.subs({a: 2}), invL(F).subs({a: 2}), \n",
    "               xlim=(-1, 4), ylim=(0, 3), show=False)\n",
    "p[1].line_color = 'red'\n",
    "p.show()"
   ]
  },
  {
   "cell_type": "markdown",
   "metadata": {},
   "source": [
    "### **Documentación**\n",
    "\n",
    "El código anterior utiliza la biblioteca **SymPy** para graficar dos funciones: \\( f(t) \\) y su **transformada inversa de Laplace**, personalizando los colores y los límites del gráfico.\n",
    "aso a paso:\r\n",
    "\r\n",
    "1. **Creación del gráfico:**\r\n",
    "   ```python\r\n",
    "   p = sympy.plot(f.subs({a: 2}), invL(F).subs({a: 2}), \r\n",
    "                  xlim=(-1, 4), ylim=(0, 3), show=False)\r\n",
    "   ```\r\n",
    "   - `sympy.plot`: Genera un gráfico para las funciones dadas.\r\n",
    "   - `f.subs({a: 2})`: Evalúa la función \\( f(t) \\) sustituyendo el parámetro \\( a \\) por 2. Si \\( f \\) depende de \\( a \\), esta operación reemplaza \\( a \\) con su valor específico.\r\n",
    "   - `invL(F).subs({a: 2})`: Evalúa la **transformada inversa de Laplace** de \\( F(s)u\\) después de susti>ir \\( a = 2 \\).\r\n",
    "     - `invL(F)`: Supone que `invL` es una función definida previamente que representa la transformada inversa de Laplace.\r\n",
    "   - `xlim=(-1, 4)`: Define los límites del eje \\( x \\) entre -1 y 4.\r\n",
    "   - `ylim=(0, 3)`: Define los límites del eje \\( y \\) entre 0 y 3.\r\n",
    "   - `show=False`: Evita mostrar el gráfico inmediatamente, permitiendo personalizarlo antes de visualizarlo.\r\n",
    "\r\n",
    "2. **Personalización del gráfico:**\r\n",
    "   ```python\r\n",
    "   p[1].line_color = 'red'\r\n",
    "   ```\r\n",
    "   - `p[1]`: Se refiere al segundo gráfico en la lista (recordemos que se están graficando dos funciones).\r\n",
    "   - `.line_color = 'red'`: Cambia el color de la l) \\) (en color predeterminado) y \\( \\mathcal{L}^{-1}\\{F(s)\\} \\) en rojo."
   ]
  },
  {
   "cell_type": "markdown",
   "metadata": {},
   "source": [
    "### Tabla"
   ]
  },
  {
   "cell_type": "code",
   "execution_count": 64,
   "metadata": {},
   "outputs": [
    {
     "data": {
      "image/png": "[encoded data removed]",
      "text/latex": [
       "$\\displaystyle \\left[ 1, \\  t, \\  e^{- a t}, \\  t e^{- a t}, \\  t^{2} e^{- a t}, \\  \\sin{\\left(\\omega t \\right)}, \\  \\cos{\\left(\\omega t \\right)}, \\  1 - e^{- a t}, \\  e^{- a t} \\sin{\\left(\\omega t \\right)}, \\  e^{- a t} \\cos{\\left(\\omega t \\right)}\\right]$"
      ],
      "text/plain": [
       "⎡       -a⋅t     -a⋅t   2  -a⋅t                           -a⋅t   -a⋅t         \n",
       "⎣1, t, ℯ    , t⋅ℯ    , t ⋅ℯ    , sin(ω⋅t), cos(ω⋅t), 1 - ℯ    , ℯ    ⋅sin(ω⋅t)\n",
       "\n",
       "   -a⋅t         ⎤\n",
       ", ℯ    ⋅cos(ω⋅t)⎦"
      ]
     },
     "execution_count": 64,
     "metadata": {},
     "output_type": "execute_result"
    }
   ],
   "source": [
    "omega = sympy.Symbol('omega', real=True)\n",
    "exp = sympy.exp\n",
    "sin = sympy.sin\n",
    "cos = sympy.cos\n",
    "functions = [1,\n",
    "         t,\n",
    "         exp(-a*t),\n",
    "         t*exp(-a*t),\n",
    "         t**2*exp(-a*t),\n",
    "         sin(omega*t),\n",
    "         cos(omega*t),\n",
    "         1 - exp(-a*t),\n",
    "         exp(-a*t)*sin(omega*t),\n",
    "         exp(-a*t)*cos(omega*t),\n",
    "         ]\n",
    "functions"
   ]
  },
  {
   "cell_type": "markdown",
   "metadata": {},
   "source": [
    "### **Documentación**\n",
    "\n",
    "El codigo anterior se utiliza para definir una lista de funciones simbólicas comunes que se pueden utilizar en análisis matemático, como transformadas de Laplace, series de Fourier, etc. \n",
    "-\r\n",
    "\r\n",
    "### Código y explicación:\r\n",
    "\r\n",
    "1. **Definición del símbolo `omega`**:\r\n",
    "   ```python\r\n",
    "   omega = sympy.Symbol('omega', real=True)\r\n",
    "   ```\r\n",
    "   - Define `omega` como un símbolo simbólico en SymPy.\r\n",
    "   - El argumento `real=True` indica que \\( \\omega \\) representa un número real.\r\n",
    "\r\n",
    "2. **Importaciones abreviadas**:\r\n",
    "   ```python\r\n",
    "   exp = sympy.exp\r\n",
    "   sin = sympy.sin\r\n",
    "   cos = sympy.cos\r\n",
    "   ```\r\n",
    "   - Aquí se crean alias (abreviaciones) para las funciones exponencial, seno y coseno de SymPy. Esto facilita escribirlas más rápido.\r\n",
    "\r\n",
    "3. **Lista de funciones simbólicas**:\r\n",
    "   ```python\r\n",
    "   functions = [1,\r\n",
    "            t,\r\n",
    "            exp(-a*t),\r\n",
    "            t*exp(-a*t),\r\n",
    "            t**2*exp(-a*t),\r\n",
    "            sin(omega*t),\r\n",
    "            cos(omega*t),\r\n",
    "            1 - exp(-a*t),\r\n",
    "            exp(-a*t)*sin(omega*t),\r\n",
    "            exp(-n estas funciones directamente (diferenciar, integrar, etc.) gracias a SymPy.\n"
   ]
  },
  {
   "cell_type": "code",
   "execution_count": 69,
   "metadata": {},
   "outputs": [
    {
     "data": {
      "image/png": "[encoded data removed]",
      "text/latex": [
       "$\\displaystyle \\left[ \\frac{1}{s}, \\  \\frac{1}{s^{2}}, \\  \\frac{1}{a + s}, \\  \\frac{1}{\\left(a + s\\right)^{2}}, \\  \\frac{2}{\\left(a + s\\right)^{3}}, \\  \\frac{\\omega}{\\omega^{2} + s^{2}}, \\  \\frac{s}{\\omega^{2} + s^{2}}, \\  - \\frac{1}{a + s} + \\frac{1}{s}, \\  \\frac{\\omega}{\\omega^{2} + \\left(a + s\\right)^{2}}, \\  \\frac{a + s}{\\omega^{2} + \\left(a + s\\right)^{2}}\\right]$"
      ],
      "text/plain": [
       "⎡1  1     1       1         2         ω        s         1     1        ω     \n",
       "⎢─, ──, ─────, ────────, ────────, ───────, ───────, - ───── + ─, ────────────\n",
       "⎢s   2  a + s         2         3   2    2   2    2    a + s   s   2          \n",
       "⎣   s          (a + s)   (a + s)   ω  + s   ω  + s                ω  + (a + s)\n",
       "\n",
       "       a + s    ⎤\n",
       "─, ─────────────⎥\n",
       "2   2          2⎥\n",
       "   ω  + (a + s) ⎦"
      ]
     },
     "execution_count": 69,
     "metadata": {},
     "output_type": "execute_result"
    }
   ],
   "source": [
    "Fs = [L(f) for f in functions] #Comando para imprimir los valores de cada transformada en formato de vector\n",
    "Fs"
   ]
  },
  {
   "cell_type": "markdown",
   "metadata": {},
   "source": [
    "### *Utilizando Pandas para crear una tabla*"
   ]
  },
  {
   "cell_type": "code",
   "execution_count": 75,
   "metadata": {},
   "outputs": [],
   "source": [
    "from pandas import DataFrame"
   ]
  },
  {
   "cell_type": "code",
   "execution_count": 77,
   "metadata": {},
   "outputs": [],
   "source": [
    "def makelatex(args):\n",
    "    return [\"$${}$$\".format(sympy.latex(a)) for a in args]"
   ]
  },
  {
   "cell_type": "code",
   "execution_count": 79,
   "metadata": {},
   "outputs": [
    {
     "data": {
      "text/html": [
       "<div>\n",
       "<style scoped>\n",
       "    .dataframe tbody tr th:only-of-type {\n",
       "        vertical-align: middle;\n",
       "    }\n",
       "\n",
       "    .dataframe tbody tr th {\n",
       "        vertical-align: top;\n",
       "    }\n",
       "\n",
       "    .dataframe thead th {\n",
       "        text-align: right;\n",
       "    }\n",
       "</style>\n",
       "<table border=\"1\" class=\"dataframe\">\n",
       "  <thead>\n",
       "    <tr style=\"text-align: right;\">\n",
       "      <th></th>\n",
       "      <th>0</th>\n",
       "      <th>1</th>\n",
       "    </tr>\n",
       "  </thead>\n",
       "  <tbody>\n",
       "    <tr>\n",
       "      <th>0</th>\n",
       "      <td>$$1$$</td>\n",
       "      <td>$$\\frac{1}{s}$$</td>\n",
       "    </tr>\n",
       "    <tr>\n",
       "      <th>1</th>\n",
       "      <td>$$t$$</td>\n",
       "      <td>$$\\frac{1}{s^{2}}$$</td>\n",
       "    </tr>\n",
       "    <tr>\n",
       "      <th>2</th>\n",
       "      <td>$$e^{- a t}$$</td>\n",
       "      <td>$$\\frac{1}{a + s}$$</td>\n",
       "    </tr>\n",
       "    <tr>\n",
       "      <th>3</th>\n",
       "      <td>$$t e^{- a t}$$</td>\n",
       "      <td>$$\\frac{1}{\\left(a + s\\right)^{2}}$$</td>\n",
       "    </tr>\n",
       "    <tr>\n",
       "      <th>4</th>\n",
       "      <td>$$t^{2} e^{- a t}$$</td>\n",
       "      <td>$$\\frac{2}{\\left(a + s\\right)^{3}}$$</td>\n",
       "    </tr>\n",
       "    <tr>\n",
       "      <th>5</th>\n",
       "      <td>$$\\sin{\\left(\\omega t \\right)}$$</td>\n",
       "      <td>$$\\frac{\\omega}{\\omega^{2} + s^{2}}$$</td>\n",
       "    </tr>\n",
       "    <tr>\n",
       "      <th>6</th>\n",
       "      <td>$$\\cos{\\left(\\omega t \\right)}$$</td>\n",
       "      <td>$$\\frac{s}{\\omega^{2} + s^{2}}$$</td>\n",
       "    </tr>\n",
       "    <tr>\n",
       "      <th>7</th>\n",
       "      <td>$$1 - e^{- a t}$$</td>\n",
       "      <td>$$- \\frac{1}{a + s} + \\frac{1}{s}$$</td>\n",
       "    </tr>\n",
       "    <tr>\n",
       "      <th>8</th>\n",
       "      <td>$$e^{- a t} \\sin{\\left(\\omega t \\right)}$$</td>\n",
       "      <td>$$\\frac{\\omega}{\\omega^{2} + \\left(a + s\\right...</td>\n",
       "    </tr>\n",
       "    <tr>\n",
       "      <th>9</th>\n",
       "      <td>$$e^{- a t} \\cos{\\left(\\omega t \\right)}$$</td>\n",
       "      <td>$$\\frac{a + s}{\\omega^{2} + \\left(a + s\\right)...</td>\n",
       "    </tr>\n",
       "  </tbody>\n",
       "</table>\n",
       "</div>"
      ],
      "text/plain": [
       "                                            0  \\\n",
       "0                                       $$1$$   \n",
       "1                                       $$t$$   \n",
       "2                               $$e^{- a t}$$   \n",
       "3                             $$t e^{- a t}$$   \n",
       "4                         $$t^{2} e^{- a t}$$   \n",
       "5            $$\\sin{\\left(\\omega t \\right)}$$   \n",
       "6            $$\\cos{\\left(\\omega t \\right)}$$   \n",
       "7                           $$1 - e^{- a t}$$   \n",
       "8  $$e^{- a t} \\sin{\\left(\\omega t \\right)}$$   \n",
       "9  $$e^{- a t} \\cos{\\left(\\omega t \\right)}$$   \n",
       "\n",
       "                                                   1  \n",
       "0                                    $$\\frac{1}{s}$$  \n",
       "1                                $$\\frac{1}{s^{2}}$$  \n",
       "2                                $$\\frac{1}{a + s}$$  \n",
       "3               $$\\frac{1}{\\left(a + s\\right)^{2}}$$  \n",
       "4               $$\\frac{2}{\\left(a + s\\right)^{3}}$$  \n",
       "5              $$\\frac{\\omega}{\\omega^{2} + s^{2}}$$  \n",
       "6                   $$\\frac{s}{\\omega^{2} + s^{2}}$$  \n",
       "7                $$- \\frac{1}{a + s} + \\frac{1}{s}$$  \n",
       "8  $$\\frac{\\omega}{\\omega^{2} + \\left(a + s\\right...  \n",
       "9  $$\\frac{a + s}{\\omega^{2} + \\left(a + s\\right)...  "
      ]
     },
     "execution_count": 79,
     "metadata": {},
     "output_type": "execute_result"
    }
   ],
   "source": [
    "DataFrame(list(zip(makelatex(functions), makelatex(Fs))))"
   ]
  },
  {
   "cell_type": "markdown",
   "metadata": {},
   "source": [
    "### **Documentación**.\n",
    "\n",
    "El codigo anterior utiliza las bibliotecas **Pandas** y **SymPy** para crear una tabla en formato **DataFrame**, donde cada fila muestra una función y su correspondiente representación en otro dominio, probablemente en términos de su **transformada de Laplace**.\n",
    "-\r\n",
    "\r\n",
    "### Código:\r\n",
    "\r\n",
    "1. **Importación de `DataFrame` de Pandas**:\r\n",
    "   ```python\r\n",
    "   from pandas import DataFrame\r\n",
    "   ```\r\n",
    "   - Importa la clase `DataFrame` de la biblioteca Pandas para manipular y organizar datos en forma tabular.\r\n",
    "\r\n",
    "2. **Definición de la función `makelatex`**:\r\n",
    "   ```python\r\n",
    "   def makelatex(args):\r\n",
    "       return [\"$${}$$\".format(sympy.latex(a)) for a in args]\r\n",
    "   ```\r\n",
    "   - Toma una lista de expresiones simbólicas (`args`) y las convierte en una lista de cadenas en formato **LaTeX** con delimitadores matemáticos (`$$...$$`).\r\n",
    "   - Usa `sympy.latex(a)` para generar el código LaTeX correspondiente a cada expresión simbólica \\( a \\) en `args`.\r\n",
    "   - Por ejemplo:\r\n",
    "     - Si \\( a = t^2 \\), el resultado será `\"$t^2$\"`.\r\n",
    "\r\n",
    "3. **Creación del DataFrame**:\r\n",
    "   ```python\r\n",
    "   DataFrame(list(zip(makelatex(functions), makelatex(Fs))))\r\n",
    "   ```\r\n",
    "   - Toma dos listas:\r\n",
    "     1. `makelatex(functions)`: Genera las representaciones en LaTeX de las funciones originales (por ejemplo, \\( f(t) \\)).\r\n",
    "     2. `makelatex(Fs)`: Genera las representaciones en LaTeX de las transformadas asociadas (por ejemplo, \\( F(s) \\)).\r\n",
    "   - Combina ambas listas en una lista de tuplas usando `zip`.\r\n",
    "   - Convierte esta lista en un **DataFrame** con dos columnas:\r\n",
    "     - La primera columna contiene las funciones en \\( t \\).\r\n",
    "     - La segunda columna contiene sus transformadas oente en ce importantesldasHay que asegurarse o tablas renderizadas en Jupyter.\r\n",
    "\r\n",
    "---\r\n",
    "\r\n",
    "### Notas:\r\n",
    "- Asegúrate de que `functions` y `Fs` estén definidas previamente y tengan la misma longitud. Si no, `zip` no funcionará correctamente.\r\n",
    "- Para ver bien el formato LaTeX, el entorno donde ejecutes esto debe soportar renderizado de LaTeX, como Jupyter Notebooks."
   ]
  },
  {
   "cell_type": "markdown",
   "metadata": {},
   "source": [
    "### Más complicadas"
   ]
  },
  {
   "cell_type": "code",
   "execution_count": 89,
   "metadata": {},
   "outputs": [],
   "source": [
    "F = ((s + 1)*(s + 2)* (s + 3))/((s + 4)*(s + 5)*(s + 6)) #Podemos calcular las inversas de funciones mas complejas"
   ]
  },
  {
   "cell_type": "code",
   "execution_count": 91,
   "metadata": {},
   "outputs": [
    {
     "data": {
      "image/png": "[encoded data removed]",
      "text/latex": [
       "$\\displaystyle \\frac{\\left(s + 1\\right) \\left(s + 2\\right) \\left(s + 3\\right)}{\\left(s + 4\\right) \\left(s + 5\\right) \\left(s + 6\\right)}$"
      ],
      "text/plain": [
       "(s + 1)⋅(s + 2)⋅(s + 3)\n",
       "───────────────────────\n",
       "(s + 4)⋅(s + 5)⋅(s + 6)"
      ]
     },
     "execution_count": 91,
     "metadata": {},
     "output_type": "execute_result"
    }
   ],
   "source": [
    "F"
   ]
  },
  {
   "cell_type": "code",
   "execution_count": 97,
   "metadata": {},
   "outputs": [
    {
     "data": {
      "image/png": "[encoded data removed]",
      "text/latex": [
       "$\\displaystyle 1 - \\frac{30}{s + 6} + \\frac{24}{s + 5} - \\frac{3}{s + 4}$"
      ],
      "text/plain": [
       "      30      24      3  \n",
       "1 - ───── + ───── - ─────\n",
       "    s + 6   s + 5   s + 4"
      ]
     },
     "execution_count": 97,
     "metadata": {},
     "output_type": "execute_result"
    }
   ],
   "source": [
    "F.apart(s) #Separo en formar de fracciones parciales"
   ]
  },
  {
   "cell_type": "code",
   "execution_count": 101,
   "metadata": {},
   "outputs": [
    {
     "data": {
      "image/png": "[encoded data removed]",
      "text/latex": [
       "$\\displaystyle \\delta\\left(t\\right) - 3 e^{- 4 t} \\theta\\left(t\\right) + 24 e^{- 5 t} \\theta\\left(t\\right) - 30 e^{- 6 t} \\theta\\left(t\\right)$"
      ],
      "text/plain": [
       "          -4⋅t            -5⋅t            -6⋅t     \n",
       "δ(t) - 3⋅ℯ    ⋅θ(t) + 24⋅ℯ    ⋅θ(t) - 30⋅ℯ    ⋅θ(t)"
      ]
     },
     "execution_count": 101,
     "metadata": {},
     "output_type": "execute_result"
    }
   ],
   "source": [
    "invL(F) #Mando a llamar a la funcion para calcular su transformada"
   ]
  },
  {
   "cell_type": "code",
   "execution_count": null,
   "metadata": {},
   "outputs": [],
   "source": []
  },
  {
   "cell_type": "code",
   "execution_count": null,
   "metadata": {},
   "outputs": [],
   "source": []
  }
 ],
 "metadata": {
  "anaconda-cloud": {},
  "kernelspec": {
   "display_name": "Python 3 (ipykernel)",
   "language": "python",
   "name": "python3"
  },
  "language_info": {
   "codemirror_mode": {
    "name": "ipython",
    "version": 3
   },
   "file_extension": ".py",
   "mimetype": "text/x-python",
   "name": "python",
   "nbconvert_exporter": "python",
   "pygments_lexer": "ipython3",
   "version": "3.12.4"
  }
 },
 "nbformat": 4,
 "nbformat_minor": 4
}
