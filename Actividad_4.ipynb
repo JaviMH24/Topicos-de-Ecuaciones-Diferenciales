{
 "cells": [
  {
   "cell_type": "markdown",
   "metadata": {},
   "source": [
    "### **Actividad 4**\n",
    "#### Ecuaciones diferenciales con transformada de Laplace"
   ]
  },
  {
   "cell_type": "markdown",
   "metadata": {},
   "source": [
    "Resolver:\n",
    "a) \n",
    "$$ y''+4y=0 \\quad y(0)=2 ; \\quad y'(0)=-8$$\n"
   ]
  },
  {
   "cell_type": "code",
   "execution_count": 2,
   "metadata": {},
   "outputs": [],
   "source": [
    "import sympy as sp\n",
    "import matplotlib.pyplot as plt #Libreria para graficas\n",
    "import matplotlib as mpl\n",
    "import numpy as np"
   ]
  },
  {
   "cell_type": "code",
   "execution_count": 16,
   "metadata": {},
   "outputs": [],
   "source": [
    "t , s=sp.symbols(\"t,s\")\n",
    "y=sp.Function('y')"
   ]
  },
  {
   "cell_type": "code",
   "execution_count": 17,
   "metadata": {},
   "outputs": [],
   "source": [
    "ode=sp.Eq(sp.Derivative(y(t),t,t)+4*y(t),0)"
   ]
  },
  {
   "cell_type": "code",
   "execution_count": 18,
   "metadata": {},
   "outputs": [
    {
     "data": {
      "text/latex": [
       "$\\displaystyle 4 y{\\left(t \\right)} + \\frac{d^{2}}{d t^{2}} y{\\left(t \\right)} = 0$"
      ],
      "text/plain": [
       "Eq(4*y(t) + Derivative(y(t), (t, 2)), 0)"
      ]
     },
     "execution_count": 18,
     "metadata": {},
     "output_type": "execute_result"
    }
   ],
   "source": [
    "ode"
   ]
  },
  {
   "cell_type": "code",
   "execution_count": 19,
   "metadata": {},
   "outputs": [
    {
     "ename": "AttributeError",
     "evalue": "'Equality' object has no attribute 'as_independent'",
     "output_type": "error",
     "traceback": [
      "\u001b[1;31m---------------------------------------------------------------------------\u001b[0m",
      "\u001b[1;31mAttributeError\u001b[0m                            Traceback (most recent call last)",
      "Cell \u001b[1;32mIn[19], line 1\u001b[0m\n\u001b[1;32m----> 1\u001b[0m Fs \u001b[38;5;241m=\u001b[39m sp\u001b[38;5;241m.\u001b[39mlaplace_transform(ode, t, s, noconds\u001b[38;5;241m=\u001b[39m\u001b[38;5;28;01mTrue\u001b[39;00m)\n",
      "File \u001b[1;32mc:\\ProgramData\\anaconda3\\Lib\\site-packages\\sympy\\integrals\\laplace.py:1223\u001b[0m, in \u001b[0;36mlaplace_transform\u001b[1;34m(f, t, s, legacy_matrix, **hints)\u001b[0m\n\u001b[0;32m   1220\u001b[0m         \u001b[38;5;28;01melse\u001b[39;00m:\n\u001b[0;32m   1221\u001b[0m             \u001b[38;5;28;01mreturn\u001b[39;00m \u001b[38;5;28mtype\u001b[39m(f)(\u001b[38;5;241m*\u001b[39mf\u001b[38;5;241m.\u001b[39mshape, elements_trans)\n\u001b[1;32m-> 1223\u001b[0m LT \u001b[38;5;241m=\u001b[39m LaplaceTransform(f, t, s)\u001b[38;5;241m.\u001b[39mdoit(noconds\u001b[38;5;241m=\u001b[39m\u001b[38;5;28;01mFalse\u001b[39;00m, simplify\u001b[38;5;241m=\u001b[39m_simplify)\n\u001b[0;32m   1225\u001b[0m \u001b[38;5;28;01mif\u001b[39;00m \u001b[38;5;129;01mnot\u001b[39;00m _noconds:\n\u001b[0;32m   1226\u001b[0m     \u001b[38;5;28;01mreturn\u001b[39;00m LT\n",
      "File \u001b[1;32mc:\\ProgramData\\anaconda3\\Lib\\site-packages\\sympy\\integrals\\laplace.py:1103\u001b[0m, in \u001b[0;36mLaplaceTransform.doit\u001b[1;34m(self, **hints)\u001b[0m\n\u001b[0;32m   1100\u001b[0m s_ \u001b[38;5;241m=\u001b[39m \u001b[38;5;28mself\u001b[39m\u001b[38;5;241m.\u001b[39mtransform_variable\n\u001b[0;32m   1101\u001b[0m fn \u001b[38;5;241m=\u001b[39m \u001b[38;5;28mself\u001b[39m\u001b[38;5;241m.\u001b[39mfunction\n\u001b[1;32m-> 1103\u001b[0m r \u001b[38;5;241m=\u001b[39m _laplace_transform(fn, t_, s_, simplify\u001b[38;5;241m=\u001b[39m_simplify)\n\u001b[0;32m   1105\u001b[0m \u001b[38;5;28;01mif\u001b[39;00m _noconds:\n\u001b[0;32m   1106\u001b[0m     \u001b[38;5;28;01mreturn\u001b[39;00m r[\u001b[38;5;241m0\u001b[39m]\n",
      "File \u001b[1;32mc:\\ProgramData\\anaconda3\\Lib\\site-packages\\sympy\\integrals\\laplace.py:1011\u001b[0m, in \u001b[0;36m_laplace_transform\u001b[1;34m(fn, t_, s_, simplify)\u001b[0m\n\u001b[0;32m   1009\u001b[0m conditions \u001b[38;5;241m=\u001b[39m []\n\u001b[0;32m   1010\u001b[0m \u001b[38;5;28;01mfor\u001b[39;00m ff \u001b[38;5;129;01min\u001b[39;00m terms:\n\u001b[1;32m-> 1011\u001b[0m     k, ft \u001b[38;5;241m=\u001b[39m ff\u001b[38;5;241m.\u001b[39mas_independent(t_, as_Add\u001b[38;5;241m=\u001b[39m\u001b[38;5;28;01mFalse\u001b[39;00m)\n\u001b[0;32m   1012\u001b[0m     \u001b[38;5;28;01mif\u001b[39;00m (r \u001b[38;5;241m:=\u001b[39m _laplace_apply_simple_rules(ft, t_, s_)) \u001b[38;5;129;01mis\u001b[39;00m \u001b[38;5;129;01mnot\u001b[39;00m \u001b[38;5;28;01mNone\u001b[39;00m:\n\u001b[0;32m   1013\u001b[0m         \u001b[38;5;28;01mpass\u001b[39;00m\n",
      "\u001b[1;31mAttributeError\u001b[0m: 'Equality' object has no attribute 'as_independent'"
     ]
    }
   ],
   "source": [
    "Fs = sp.laplace_transform(ode, t, s, noconds=True)"
   ]
  },
  {
   "cell_type": "code",
   "execution_count": null,
   "metadata": {},
   "outputs": [],
   "source": []
  }
 ],
 "metadata": {
  "kernelspec": {
   "display_name": "base",
   "language": "python",
   "name": "python3"
  },
  "language_info": {
   "codemirror_mode": {
    "name": "ipython",
    "version": 3
   },
   "file_extension": ".py",
   "mimetype": "text/x-python",
   "name": "python",
   "nbconvert_exporter": "python",
   "pygments_lexer": "ipython3",
   "version": "3.12.4"
  }
 },
 "nbformat": 4,
 "nbformat_minor": 2
}
