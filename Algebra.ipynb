{
 "cells": [
  {
   "cell_type": "code",
   "execution_count": 2,
   "id": "4e253925",
   "metadata": {},
   "outputs": [],
   "source": [
    "import sympy as sp"
   ]
  },
  {
   "cell_type": "code",
   "execution_count": 3,
   "id": "a0f43a62",
   "metadata": {},
   "outputs": [],
   "source": [
    "x = sp.Symbol('x') #Definimos a x & y como simbolos algebraicos\n",
    "y = sp.Symbol('y')"
   ]
  },
  {
   "cell_type": "code",
   "execution_count": 4,
   "id": "005e3eae",
   "metadata": {},
   "outputs": [
    {
     "data": {
      "text/latex": [
       "$\\displaystyle \\left(x + y\\right)^{2}$"
      ],
      "text/plain": [
       "(x + y)**2"
      ]
     },
     "execution_count": 4,
     "metadata": {},
     "output_type": "execute_result"
    }
   ],
   "source": [
    "(x+y)**2 #genero la operación de un binomio al cuadrado"
   ]
  },
  {
   "cell_type": "code",
   "execution_count": 5,
   "id": "731c2fd1",
   "metadata": {},
   "outputs": [
    {
     "data": {
      "text/latex": [
       "$\\displaystyle x^{2} + 2 x y + y^{2}$"
      ],
      "text/plain": [
       "x**2 + 2*x*y + y**2"
      ]
     },
     "execution_count": 5,
     "metadata": {},
     "output_type": "execute_result"
    }
   ],
   "source": [
    "((x+y)**2).expand() #comando para expandir de forma algebraico el resultado del binomio"
   ]
  },
  {
   "cell_type": "code",
   "execution_count": 6,
   "id": "55252fb4",
   "metadata": {},
   "outputs": [
    {
     "data": {
      "text/latex": [
       "$\\displaystyle \\left(y + 1\\right)^{2}$"
      ],
      "text/plain": [
       "(y + 1)**2"
      ]
     },
     "execution_count": 6,
     "metadata": {},
     "output_type": "execute_result"
    }
   ],
   "source": [
    "((x+y)**2).subs(x, 1) #comando para evaluar en particular un simbolo algebraico, en este caso x=1"
   ]
  },
  {
   "cell_type": "code",
   "execution_count": 7,
   "id": "3b8ad9e6",
   "metadata": {},
   "outputs": [
    {
     "data": {
      "text/latex": [
       "$\\displaystyle \\frac{1}{\\left(x + 1\\right) \\left(x + 2\\right)}$"
      ],
      "text/plain": [
       "1/((x + 1)*(x + 2))"
      ]
     },
     "execution_count": 7,
     "metadata": {},
     "output_type": "execute_result"
    }
   ],
   "source": [
    "1/( (x+2)*(x+1) ) #Fraccion con denominador como factor"
   ]
  },
  {
   "cell_type": "code",
   "execution_count": 8,
   "id": "f8adfa00",
   "metadata": {},
   "outputs": [
    {
     "data": {
      "text/latex": [
       "$\\displaystyle - \\frac{1}{x + 2} + \\frac{1}{x + 1}$"
      ],
      "text/plain": [
       "-1/(x + 2) + 1/(x + 1)"
      ]
     },
     "execution_count": 8,
     "metadata": {},
     "output_type": "execute_result"
    }
   ],
   "source": [
    "sp.apart(1/( (x+2)*(x+1) ), x)"
   ]
  },
  {
   "cell_type": "markdown",
   "id": "73197bbf",
   "metadata": {},
   "source": [
    "### **Documentación**\n",
    "La función `sp.apart` en SymPy se utiliza para descomponer una fracción racional en fracciones parciales.\n"
   ]
  },
  {
   "cell_type": "code",
   "execution_count": 9,
   "id": "a3ce5f70",
   "metadata": {},
   "outputs": [
    {
     "data": {
      "text/latex": [
       "$\\displaystyle \\frac{x + 1}{x - 1}$"
      ],
      "text/plain": [
       "(x + 1)/(x - 1)"
      ]
     },
     "execution_count": 9,
     "metadata": {},
     "output_type": "execute_result"
    }
   ],
   "source": [
    "(x+1)/(x-1)"
   ]
  },
  {
   "cell_type": "code",
   "execution_count": 10,
   "id": "24e2ff68",
   "metadata": {},
   "outputs": [
    {
     "data": {
      "text/latex": [
       "$\\displaystyle 1 + \\frac{2}{x - 1}$"
      ],
      "text/plain": [
       "1 + 2/(x - 1)"
      ]
     },
     "execution_count": 10,
     "metadata": {},
     "output_type": "execute_result"
    }
   ],
   "source": [
    "sp.apart((x+1)/(x-1), x) #Genera la misma función que el anterior. Como no se puede escrbiir en forma parcial\n",
    "                        # desarrolla la division correspondiente entre x+1/x-1"
   ]
  },
  {
   "cell_type": "code",
   "execution_count": 11,
   "id": "391e350d",
   "metadata": {},
   "outputs": [
    {
     "data": {
      "text/latex": [
       "$\\displaystyle \\frac{36 x - 1}{x^{2} + 2 x + 5}$"
      ],
      "text/plain": [
       "(36*x - 1)/(x**2 + 2*x + 5)"
      ]
     },
     "execution_count": 11,
     "metadata": {},
     "output_type": "execute_result"
    }
   ],
   "source": [
    "sp.apart((36*x-1)/(x**2 + 2*x + 5), x)"
   ]
  },
  {
   "cell_type": "code",
   "execution_count": 13,
   "id": "315d75a7",
   "metadata": {},
   "outputs": [
    {
     "data": {
      "text/latex": [
       "$\\displaystyle 7 x \\left(x + 1\\right)$"
      ],
      "text/plain": [
       "7*x*(x + 1)"
      ]
     },
     "execution_count": 13,
     "metadata": {},
     "output_type": "execute_result"
    }
   ],
   "source": [
    "sp.factor(7*x**2 + 2*x + 5*x, x) # Comando utilizado para generar un factor comun en los terminos algebraicos\n",
    "                                # IMPORTANTE: si es que los hay!!!. "
   ]
  },
  {
   "cell_type": "code",
   "execution_count": 35,
   "id": "521c9066",
   "metadata": {},
   "outputs": [
    {
     "data": {
      "text/latex": [
       "$\\displaystyle x^{2} + 2 x + 5$"
      ],
      "text/plain": [
       "x**2 + 2*x + 5"
      ]
     },
     "execution_count": 35,
     "metadata": {},
     "output_type": "execute_result"
    }
   ],
   "source": [
    "x=sp.Symbol('x', complex=True)\n",
    "sp.simplify(x**2 + 2*x + 5)"
   ]
  },
  {
   "cell_type": "code",
   "execution_count": 39,
   "id": "7a8b3c49",
   "metadata": {},
   "outputs": [],
   "source": [
    "prueba=sp.apart((36*x-4)/((x+1)**2 + 4), x)"
   ]
  },
  {
   "cell_type": "code",
   "execution_count": 40,
   "id": "8c20bfde",
   "metadata": {},
   "outputs": [
    {
     "data": {
      "text/latex": [
       "$\\displaystyle \\frac{4 \\cdot \\left(9 x - 1\\right)}{x^{2} + 2 x + 5}$"
      ],
      "text/plain": [
       "4*(9*x - 1)/(x**2 + 2*x + 5)"
      ]
     },
     "execution_count": 40,
     "metadata": {},
     "output_type": "execute_result"
    }
   ],
   "source": [
    "prueba"
   ]
  },
  {
   "cell_type": "code",
   "execution_count": 41,
   "metadata": {},
   "outputs": [
    {
     "data": {
      "text/latex": [
       "$\\displaystyle \\frac{4 \\cdot \\left(9 x - 1\\right)}{x^{2} + 2 x + 5}$"
      ],
      "text/plain": [
       "4*(9*x - 1)/(x**2 + 2*x + 5)"
      ]
     },
     "execution_count": 41,
     "metadata": {},
     "output_type": "execute_result"
    }
   ],
   "source": [
    "sp.factor(prueba,x)"
   ]
  },
  {
   "cell_type": "code",
   "execution_count": 23,
   "id": "817cd4a7",
   "metadata": {},
   "outputs": [],
   "source": [
    "prueba1= (x**2 - 7*x + 24)/((x-1)*(x-2)*(x-4))"
   ]
  },
  {
   "cell_type": "code",
   "execution_count": 24,
   "id": "d2f5372b",
   "metadata": {},
   "outputs": [
    {
     "data": {
      "text/latex": [
       "$\\displaystyle \\frac{x^{2} - 7 x + 24}{\\left(x - 4\\right) \\left(x - 2\\right) \\left(x - 1\\right)}$"
      ],
      "text/plain": [
       "(x**2 - 7*x + 24)/((x - 4)*(x - 2)*(x - 1))"
      ]
     },
     "execution_count": 24,
     "metadata": {},
     "output_type": "execute_result"
    }
   ],
   "source": [
    "prueba1"
   ]
  },
  {
   "cell_type": "code",
   "execution_count": 25,
   "id": "91032d09",
   "metadata": {},
   "outputs": [
    {
     "data": {
      "text/latex": [
       "$\\displaystyle \\frac{6}{x - 1} - \\frac{7}{x - 2} + \\frac{2}{x - 4}$"
      ],
      "text/plain": [
       "6/(x - 1) - 7/(x - 2) + 2/(x - 4)"
      ]
     },
     "execution_count": 25,
     "metadata": {},
     "output_type": "execute_result"
    }
   ],
   "source": [
    "sp.apart(prueba1, x) # Aqui si podemos generar la factorizacion correspondiente"
   ]
  },
  {
   "cell_type": "markdown",
   "id": "58ad972a",
   "metadata": {},
   "source": [
    "## Transformada de Laplace"
   ]
  },
  {
   "cell_type": "code",
   "execution_count": 26,
   "id": "3ac8e129",
   "metadata": {},
   "outputs": [],
   "source": [
    "t, s = sp.symbols(\"t, s\") #Definimos los simobolos"
   ]
  },
  {
   "cell_type": "code",
   "execution_count": 27,
   "id": "c07ccac7",
   "metadata": {},
   "outputs": [],
   "source": [
    "a = sp.symbols(\"a\", real=True, positive=True) # hago que a sea tanto positivo como numero real"
   ]
  },
  {
   "cell_type": "code",
   "execution_count": 28,
   "id": "6c8c912d",
   "metadata": {},
   "outputs": [],
   "source": [
    "fun = sp.exp(-a*t) #funcion e^-at\n",
    "#fun=t**4\n",
    "#fun = sp.sin(a*t) #funcion sin(at)"
   ]
  },
  {
   "cell_type": "code",
   "execution_count": 33,
   "id": "8818f27c",
   "metadata": {},
   "outputs": [],
   "source": [
    "Fs = sp.laplace_transform(fun, t, s, noconds=True)"
   ]
  },
  {
   "cell_type": "code",
   "execution_count": 34,
   "id": "a4502c1b",
   "metadata": {},
   "outputs": [
    {
     "data": {
      "text/latex": [
       "$\\displaystyle \\frac{a}{a^{2} + s^{2}}$"
      ],
      "text/plain": [
       "a/(a**2 + s**2)"
      ]
     },
     "execution_count": 34,
     "metadata": {},
     "output_type": "execute_result"
    }
   ],
   "source": [
    "Fs"
   ]
  },
  {
   "cell_type": "markdown",
   "id": "06369522",
   "metadata": {},
   "source": [
    "### **Documentación**\n",
    "\n",
    "El código `Fs = sp.laplace_transform(fun, t, s, noconds=True)` en SymPy se utiliza para calcular la **transformada de Laplace** de una función en términos de la variable simbólica `t`, transformándola en la variable simbólica `s`.\n",
    "\n",
    "- **`sp.laplace_transform`**: Es la función de SymPy que calcula la transformada de Laplace de una función dada.\n",
    "\n",
    "- **`fun`**: La función en términos de `t` de la cual deseas calcular la transformada de Laplace.\n",
    "\n",
    "- **`t`**: La variable independiente original (normalmente el tiempo).\n",
    "\n",
    "- **`s`**: La variable de la imagen o frecuencia (a la que se convierte `t` en la transformada de Laplace).\n",
    "\n",
    "- **`noconds=True`**: Al establecer `noconds=True`, le estás diciendo a SymPy que devuelva solo la expresión transformada, sin condiciones adicionales de convergencia. Si estableces `noconds=False` (o lo omites), SymPy también devolverá las condiciones bajo las cuales la transformada es válida (por ejemplo, restricciones en `s`)."
   ]
  },
  {
   "cell_type": "markdown",
   "id": "d4a19f7e",
   "metadata": {},
   "source": [
    "# Función escalón"
   ]
  },
  {
   "cell_type": "code",
   "execution_count": 42,
   "id": "4c185b00",
   "metadata": {},
   "outputs": [],
   "source": [
    "t = sp.Symbol('t')"
   ]
  },
  {
   "cell_type": "code",
   "execution_count": 43,
   "id": "6d841154",
   "metadata": {},
   "outputs": [],
   "source": [
    "u = sp.Heaviside(t)\n",
    "ft = u - u.subs(t,t-2)"
   ]
  },
  {
   "cell_type": "markdown",
   "id": "502a0eb8",
   "metadata": {},
   "source": [
    "### **Documentación**\n",
    "Los códigos `u = sp.Heaviside(t)` y `ft = u - u.subs(t, t-2)` en SymPy se usan para trabajar con la **función escalón de Heaviside**.\n",
    "\n",
    "1. **`u = sp.Heaviside(t)`**: \n",
    "   - Este código define `u` como la **función de Heaviside** en la variable `t`.\n",
    "\n",
    "   - La función de Heaviside, `H(t)`, es una función escalón que vale `0` para `t < 0` y `1` para `t >= 0`.\n",
    "\n",
    "   - En SymPy, `sp.Heaviside(t)` representa esta función.\n",
    "\n",
    "2. **`ft = u - u.subs(t, t-2)`**:\n",
    "   - Aquí se define `ft` como una combinación de dos funciones de Heaviside: `u` y `u.subs(t, t-2)`.\n",
    "\n",
    "   - `u.subs(t, t-2)` es la función de Heaviside trasladada en el tiempo, donde `t` se reemplaza por `t-2`. Esto significa que la función Heaviside se activa en `t = 2` en lugar de `t = 0`.\n",
    "\n",
    "   - La expresión `ft = u - u.subs(t, t-2)` representa una función que \"se activa\" en `t = 0` y \"se apaga\" en `t = 2`. En otras palabras, `ft` es una función rectangular que vale `1` entre `t = 0` y `t = 2`, y `0` fuera de ese intervalo."
   ]
  },
  {
   "cell_type": "code",
   "execution_count": 44,
   "id": "56ca7d20",
   "metadata": {},
   "outputs": [
    {
     "data": {
      "text/latex": [
       "$\\displaystyle \\theta\\left(t\\right) - \\theta\\left(t - 2\\right)$"
      ],
      "text/plain": [
       "Heaviside(t) - Heaviside(t - 2)"
      ]
     },
     "execution_count": 44,
     "metadata": {},
     "output_type": "execute_result"
    }
   ],
   "source": [
    "ft"
   ]
  },
  {
   "cell_type": "code",
   "execution_count": 45,
   "id": "8c10b2fc",
   "metadata": {},
   "outputs": [
    {
     "data": {
      "image/png": "[encoded data removed]",
      "text/plain": [
       "<Figure size 640x480 with 1 Axes>"
      ]
     },
     "metadata": {},
     "output_type": "display_data"
    }
   ],
   "source": [
    "c1=sp.plotting.plot(ft) #grafica la funcion de heaviside anterior."
   ]
  },
  {
   "cell_type": "code",
   "execution_count": 47,
   "id": "e115a638",
   "metadata": {},
   "outputs": [],
   "source": [
    "d = sp.DiracDelta(t) #La funcion delta de dirac"
   ]
  },
  {
   "cell_type": "code",
   "execution_count": 48,
   "id": "1c8a0ae8",
   "metadata": {},
   "outputs": [
    {
     "data": {
      "text/latex": [
       "$\\displaystyle \\delta\\left(t\\right)$"
      ],
      "text/plain": [
       "DiracDelta(t)"
      ]
     },
     "execution_count": 48,
     "metadata": {},
     "output_type": "execute_result"
    }
   ],
   "source": [
    "d"
   ]
  },
  {
   "cell_type": "code",
   "execution_count": 49,
   "id": "40ec1192",
   "metadata": {},
   "outputs": [
    {
     "data": {
      "image/png": "[encoded data removed]",
      "text/plain": [
       "<Figure size 640x480 with 1 Axes>"
      ]
     },
     "metadata": {},
     "output_type": "display_data"
    }
   ],
   "source": [
    "c2=sp.plotting.plot(d)"
   ]
  },
  {
   "cell_type": "markdown",
   "id": "61ce42e6",
   "metadata": {},
   "source": [
    "### **Documentación**\n",
    "Como la función **delta de Dirac** en realidad es una **función de distribución** y no una función tradicional. Por lo tanto, su valor en el eje \\( y \\) es teóricamente infinito en \\( t = 0 \\) y cero en todos los demás puntos. Debido a esta naturaleza, SymPy y muchas otras bibliotecas no pueden graficar la delta de Dirac directamente, ya que no hay un valor numérico definido que se pueda representar en el gráfico.\n",
    "\n",
    "Para visualizar la delta de Dirac en un gráfico, se suele utilizar una **aproximación** en lugar de la función exacta. Una forma común de hacer esto es graficar un pico muy alto en \\( t = 0 \\) que represente visualmente la delta de Dirac. Esto se puede lograr mediante el uso de una función gaussiana o una función con forma de pico que sea alta y estrecha en \\( t = 0 \\)."
   ]
  },
  {
   "cell_type": "code",
   "execution_count": 51,
   "id": "726f5e7b",
   "metadata": {},
   "outputs": [
    {
     "data": {
      "image/png": "[encoded data removed]",
      "text/plain": [
       "<Figure size 640x480 with 1 Axes>"
      ]
     },
     "metadata": {},
     "output_type": "display_data"
    }
   ],
   "source": [
    "import sympy as sp\n",
    "import numpy as np\n",
    "import matplotlib.pyplot as plt\n",
    "\n",
    "# Crear una función que aproxima la delta de Dirac\n",
    "def dirac_approx(t, epsilon=0.001):\n",
    "    return np.exp(-t**2 / (2 * epsilon**2)) / (epsilon * np.sqrt(2 * np.pi))\n",
    "\n",
    "# Rango de valores de t para graficar\n",
    "t_vals = np.linspace(-1, 1, 1000)\n",
    "d_vals = dirac_approx(t_vals)\n",
    "\n",
    "# Graficar la aproximación\n",
    "plt.plot(t_vals, d_vals, label=\"Aproximación de Dirac\")\n",
    "plt.xlabel(\"t\")\n",
    "plt.ylabel(\"Aproximación de Dirac\")\n",
    "plt.title(\"Aproximación de la función Delta de Dirac\")\n",
    "plt.legend()\n",
    "plt.show()"
   ]
  },
  {
   "cell_type": "markdown",
   "id": "c93e8bd1",
   "metadata": {},
   "source": [
    "### Explicación del Código\n",
    "- **`dirac_approx(t, epsilon=0.1)`**: Esta función define una aproximación gaussiana para la delta de Dirac, donde `epsilon` controla qué tan estrecha y alta es la función. Un valor más pequeño de `epsilon` hace que la función sea más alta y más concentrada alrededor de \\( t = 0 \\).\n",
    "- **`t_vals`**: Define un rango de valores de `t` alrededor de cero para observar la función.\n",
    "- **`plt.plot`**: Grafica la aproximación de la delta de Dirac en el rango definido.\n",
    "\n",
    "Este gráfico mostrará un pico alto y estrecho en \\( t = 0 \\), que representa visualmente la función delta de Dirac."
   ]
  },
  {
   "cell_type": "code",
   "execution_count": null,
   "id": "c1783070",
   "metadata": {},
   "outputs": [],
   "source": [
    "gt = sp.exp(-2*t)*u + sp.exp(-t)*sp.cos(3*t)*u"
   ]
  },
  {
   "cell_type": "code",
   "execution_count": null,
   "id": "f251eefa",
   "metadata": {},
   "outputs": [],
   "source": [
    "c3=sp.plotting.plot(gt)"
   ]
  },
  {
   "cell_type": "code",
   "execution_count": null,
   "id": "58c1e27d",
   "metadata": {},
   "outputs": [],
   "source": [
    "ht = d - 3*d.subs(t,t-2) + 2*d.subs(t,t-3)"
   ]
  },
  {
   "cell_type": "code",
   "execution_count": null,
   "id": "0b9d93fa",
   "metadata": {},
   "outputs": [],
   "source": [
    "ht"
   ]
  },
  {
   "cell_type": "code",
   "execution_count": null,
   "id": "64f4a444",
   "metadata": {},
   "outputs": [],
   "source": [
    "c4=sp.plotting.plot(ht)"
   ]
  },
  {
   "cell_type": "code",
   "execution_count": null,
   "id": "5605c024",
   "metadata": {},
   "outputs": [],
   "source": []
  }
 ],
 "metadata": {
  "kernelspec": {
   "display_name": "Python 3 (ipykernel)",
   "language": "python",
   "name": "python3"
  },
  "language_info": {
   "codemirror_mode": {
    "name": "ipython",
    "version": 3
   },
   "file_extension": ".py",
   "mimetype": "text/x-python",
   "name": "python",
   "nbconvert_exporter": "python",
   "pygments_lexer": "ipython3",
   "version": "3.12.4"
  }
 },
 "nbformat": 4,
 "nbformat_minor": 5
}
