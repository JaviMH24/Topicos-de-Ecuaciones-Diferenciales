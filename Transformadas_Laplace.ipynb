{
 "cells": [
  {
   "cell_type": "markdown",
   "metadata": {},
   "source": [
    "# Ecuaciones Diferenciales con Transformada de Laplace"
   ]
  },
  {
   "cell_type": "code",
   "execution_count": 2,
   "metadata": {},
   "outputs": [],
   "source": [
    "import numpy as np"
   ]
  },
  {
   "cell_type": "code",
   "execution_count": 3,
   "metadata": {},
   "outputs": [],
   "source": [
    "%matplotlib inline\n",
    "%config InlineBackend.figure_format='retina'\n",
    "import matplotlib.pyplot as plt\n",
    "import matplotlib as mpl\n",
    "from sympy import symbols, laplace_transform\n",
    "mpl.rcParams['text.usetex'] = True\n",
    "mpl.rcParams['mathtext.fontset'] = 'stix'\n",
    "mpl.rcParams['font.family'] = 'serif'\n",
    "mpl.rcParams['font.sans-serif'] = 'stix'"
   ]
  },
  {
   "cell_type": "code",
   "execution_count": 4,
   "metadata": {},
   "outputs": [],
   "source": [
    "import sympy\n",
    "sympy.init_printing()"
   ]
  },
  {
   "cell_type": "code",
   "execution_count": 5,
   "metadata": {},
   "outputs": [],
   "source": [
    "from scipy import integrate"
   ]
  },
  {
   "cell_type": "code",
   "execution_count": 6,
   "metadata": {},
   "outputs": [],
   "source": [
    "t = sympy.symbols(\"t\", positive=True) #Definimos cada una de las varaibles como terminos algebraicos haciendo que t sea un numero positivo"
   ]
  },
  {
   "cell_type": "code",
   "execution_count": 7,
   "metadata": {},
   "outputs": [],
   "source": [
    "s, Y = sympy.symbols(\"s Y\", complex=True) #hacemos que s & Y sean valores reales"
   ]
  },
  {
   "cell_type": "code",
   "execution_count": 8,
   "metadata": {},
   "outputs": [],
   "source": [
    "y = sympy.Function(\"y\") #Hacemos que \"y\" sea una función en terminos de las anteriores variables"
   ]
  },
  {
   "cell_type": "code",
   "execution_count": 9,
   "metadata": {},
   "outputs": [],
   "source": [
    "ode = y(t).diff(t, 2) + 2 * y(t).diff(t) + 10 * y(t) - 2 * sympy.sin(3*t) #Comando para ED"
   ]
  },
  {
   "cell_type": "code",
   "execution_count": 10,
   "metadata": {},
   "outputs": [
    {
     "data": {
      "text/latex": [
       "$\\displaystyle 10 y{\\left(t \\right)} - 2 \\sin{\\left(3 t \\right)} + 2 \\frac{d}{d t} y{\\left(t \\right)} + \\frac{d^{2}}{d t^{2}} y{\\left(t \\right)}$"
      ],
      "text/plain": [
       "                                      2      \n",
       "                         d           d       \n",
       "10⋅y(t) - 2⋅sin(3⋅t) + 2⋅──(y(t)) + ───(y(t))\n",
       "                         dt           2      \n",
       "                                    dt       "
      ]
     },
     "execution_count": 10,
     "metadata": {},
     "output_type": "execute_result"
    }
   ],
   "source": [
    "ode"
   ]
  },
  {
   "cell_type": "code",
   "execution_count": 11,
   "metadata": {},
   "outputs": [],
   "source": [
    "L_y = sympy.laplace_transform(y(t), t, s) #Aplicamos su transformada de Laplace"
   ]
  },
  {
   "cell_type": "code",
   "execution_count": 12,
   "metadata": {},
   "outputs": [
    {
     "data": {
      "text/latex": [
       "$\\displaystyle \\left( \\mathcal{L}_{t}\\left[y{\\left(t \\right)}\\right]\\left(s\\right), \\  -\\infty, \\  \\text{True}\\right)$"
      ],
      "text/plain": [
       "(LaplaceTransform(y(t), t, s), -∞, True)"
      ]
     },
     "execution_count": 12,
     "metadata": {},
     "output_type": "execute_result"
    }
   ],
   "source": [
    "L_y"
   ]
  },
  {
   "cell_type": "code",
   "execution_count": 13,
   "metadata": {},
   "outputs": [],
   "source": [
    "#L_ode = sympy.laplace_transform(ode, t, s, noconds=True)\n",
    "L_ode= sympy.laplace_transform(ode, t, s)"
   ]
  },
  {
   "cell_type": "code",
   "execution_count": 14,
   "metadata": {},
   "outputs": [
    {
     "data": {
      "text/latex": [
       "$\\displaystyle \\left( s^{2} \\mathcal{L}_{t}\\left[y{\\left(t \\right)}\\right]\\left(s\\right) + 2 s \\mathcal{L}_{t}\\left[y{\\left(t \\right)}\\right]\\left(s\\right) - s y{\\left(0 \\right)} + 10 \\mathcal{L}_{t}\\left[y{\\left(t \\right)}\\right]\\left(s\\right) - 2 y{\\left(0 \\right)} - \\left. \\frac{d}{d t} y{\\left(t \\right)} \\right|_{\\substack{ t=0 }} - \\frac{6}{s^{2} + 9}, \\  0, \\  \\text{True}\\right)$"
      ],
      "text/plain": [
       "⎛ 2                                                                           \n",
       "⎜s ⋅LaplaceTransform(y(t), t, s) + 2⋅s⋅LaplaceTransform(y(t), t, s) - s⋅y(0) +\n",
       "⎜                                                                             \n",
       "⎝                                                                             \n",
       "\n",
       "                                            ⎛d       ⎞│        6            ⎞\n",
       " 10⋅LaplaceTransform(y(t), t, s) - 2⋅y(0) - ⎜──(y(t))⎟│    - ──────, 0, True⎟\n",
       "                                            ⎝dt      ⎠│t=0    2             ⎟\n",
       "                                                             s  + 9         ⎠"
      ]
     },
     "execution_count": 14,
     "metadata": {},
     "output_type": "execute_result"
    }
   ],
   "source": [
    "L_ode"
   ]
  },
  {
   "cell_type": "markdown",
   "metadata": {},
   "source": [
    "### **Documentación**"
   ]
  },
  {
   "cell_type": "markdown",
   "metadata": {},
   "source": [
    "Los codigos anteriores utilizan la función `sympy.laplace_transform` de **SymPy** para calcular la **transformada de Laplace**, pero operan sobre diferentes expresiones matemáticas.\n"
   ]
  },
  {
   "cell_type": "markdown",
   "metadata": {},
   "source": [
    "\r\n",
    "\r\n",
    "### Código 1:\r\n",
    "```python\r\n",
    "L_y = sympy.laplace_transform(y(t), t, s)\r\n",
    "```\r\n",
    "\r\n",
    "#### Explicación:\r\n",
    "- **Entrada**:\r\n",
    "  - `y(t)`: Es una función simbólica dependiente de \\( t \\), como \\( y(t) \\).\r\n",
    "  - `t`: La variable independiente del tiempo en \\( y(t) \\).\r\n",
    "  - `s`: La variable del dominio de Laplace.\r\n",
    "\r\n",
    "- **Salida**:\r\n",
    "  - Calcula la transformada de Laplace de la función \\( y(t) \\), que está definida como:\r\n",
    "    \\[\r\n",
    "    \\mathcal{L}\\{y(t)\\}(s) = \\int_0^\\infty y(t) e^{-st} dt\r\n",
    "    \\]\r\n",
    "\r\n",
    "- **Propósito**:\r\n",
    "  - Este código se centra en obtener la transformada de Laplace de una **función específica**, como una entrada oda de un sistema.\r\n",
    "\r\n",
    "---\r\n",
    "\r\n",
    "### Código 2:\r\n",
    "```python\r\n",
    "L_ode = sympy.laplace_transform(ode, t, s)\r\n",
    "```\r\n",
    "\r\n",
    "#### Explicación:\r\n",
    "- **Entrada**:\r\n",
    "  - `ode`: Una ecuación diferencial simbólica en términos de \\( y(t) \\) y sus derivadas, como:\r\n",
    "    \\[\r\n",
    "    \\text{ode} = y''(t) + 2y'(t) + y(t) = f(t)\r\n",
    "    \\]\r\n",
    "  - `t`: La variable independiente del tiempo.\r\n",
    "  - `s`nde \\( Y(s) \\) es la transformada de \\( y(t) \\).\r\n",
    "\r\n",
    "- **Propósito**:\r\n",
    "  - Este código es útil para resolver **ecuaciones diferenciales** en el dominio de Laplace a_ode)\r\n",
    "```\r\n",
    "**Salida**:\r\n",
    "Transforma cada término de la ecuación diferencial al dominio \\( s \\).\n"
   ]
  },
  {
   "cell_type": "code",
   "execution_count": 18,
   "metadata": {},
   "outputs": [],
   "source": [
    "def laplace_transform_derivatives(e):\n",
    "    \"\"\"\n",
    "    Evaluate the laplace transforms of derivatives of functions\n",
    "    \"\"\"\n",
    "    if isinstance(e, sympy.LaplaceTransform):\n",
    "        if isinstance(e.args[0], sympy.Derivative):\n",
    "            d, t, s = e.args\n",
    "            n = d.args[1][1]\n",
    "            return ((s**n) * sympy.LaplaceTransform(d.args[0], t, s) - \n",
    "                    sum([s**(n-i) * sympy.diff(d.args[0], t, i-1).subs(t, 0)\n",
    "                         for i in range(1, n+1)]))\n",
    "        \n",
    "    if isinstance(e, (sympy.Add, sympy.Mul)):\n",
    "        t = type(e)\n",
    "        return t(*[laplace_transform_derivatives(arg) for arg in e.args])\n",
    "    \n",
    "    return e"
   ]
  },
  {
   "cell_type": "markdown",
   "metadata": {},
   "source": [
    "### **Documentación**"
   ]
  },
  {
   "cell_type": "markdown",
   "metadata": {},
   "source": [
    "La función anterior está diseñada para manejar y evaluar la  transformada de Laplacede derivadas simbólicas en expresiones dadas."
   ]
  },
  {
   "cell_type": "markdown",
   "metadata": {},
   "source": [
    "\r\n",
    "\r\n",
    "### Propósito:\r\n",
    "La función aplica las propiedades de la transformada de Laplace a derivadas simbólicas dentro de una expresión. Recordemos que la transformada de Laplace de la \\( n \\)-ésima derivada de \\( f(t) \\) está dada por:\r\n",
    "\r\n",
    "\\[\r\n",
    "\\mathcal{L}\\{f^{(n)}(t)\\} = s^n \\mathcal{L}\\{f(t)\\} - \\sum_{k=0}^{n-1} s^{n-k-1} f^{(k)}(0)\r\n",
    "\\]\r\n",
    "\r\n",
    "Donde \\( f^{(k)}(0) \\) son los valores iniciales de las derivadas hasta el orden \\( n-1 \\). La función implementa este resultado de forma simbólica.\r\n",
    "\r\n",
    "---\r\n",
    "\r\n",
    "### Análisis del código:\r\n",
    "\r\n",
    "#### 1. **Manejo de transformadas de derivadas**:\r\n",
    "```python\r\n",
    "if isinstance(e, sympy.LaplaceTransform):\r\n",
    "    if isinstance(e.args[0], sympy.Derivative):\r\n",
    "        d, t, s = e.args\r\n",
    "        n = d.args[1][1]\r\n",
    "        return ((s**n) * sympy.LaplaceTransform(d.args[0], t, s) - \r\n",
    "                sum([s**(n-i) * sympy.diff(d.args[0], t, i-1).subs(t, 0)\r\n",
    "                     for i in range(1, n+1)]))\r\n",
    "```\r\n",
    "\r\n",
    "- **`sympy.LaplaceTransform`**:\r\n",
    "  - Detecta si el término actual es una transformada de Laplace (`e` es una instancia de `sympy.LaplaceTransform`).\r\n",
    "  \r\n",
    "- **`sympy.Derivative`**:\r\n",
    "  - Comprueba si el argumento dentro de la transformada (\\( e.args[0] \\)) es una derivada simbólica.\r\n",
    "  \r\n",
    "- **Transformada de la derivada**:\r\n",
    "  - Si es una derivada \\( f^{(n)}(t) \\):\r\n",
    "    - `n = d.args[1][1]`: Obtiene el orden \\( n \\) de la derivada.\r\n",
    "    - Calcula:\r\n",
    "      \\[\r\n",
    "      s^n \\mathcal{L}\\{f(t)\\} - \\sum_{i=1}^n s^{n-i} f^{(i-1)}(0)\r\n",
    "      \\]\r\n",
    "      Usando:\r\n",
    "      - `sympy.diff(d.args[0], t, i-1)`: Calcula la derivada simbólica de \\( f(t) \\).\r\n",
    "      - `.subs(t, 0)`: Evalúa cada derivada inicial en \\( t = 0 \\).\r\n",
    "\r\n",
    "#### 2. **Manejo de expresiones algebraicas**:\r\n",
    "```python\r\n",
    "if isinstance(e, (sympy.Add, sympy.Mul)):\r\n",
    "    t = type(e)\r\n",
    "    return t(*[laplace_transform_derivatives(arg) for arg in e.args])\r\n",
    "```\r\n",
    "\r\n",
    "- Si la expresión es una suma (`sympy.Add`) o un producto (`sympy.Mul`):\r\n",
    "  - Aplica `laplace_transform_derivatives` recursivamente a cada término (\\( e.args \\)).\r\n",
    "  - Reconstruye la expresión con la misma operación (suma o producto).\r\n",
    "\r\n",
    "#### 3. **Otros casos**:\r\n",
    "```python\r\n",
    "return e\r\n",
    "```\r\n",
    "\r\n",
    "- Si el término no es una transformada de Laplace o esolver ecuaciones diferenciales en el dominio de Laplace aplicando propiedades de las derivadas.\n"
   ]
  },
  {
   "cell_type": "code",
   "execution_count": 22,
   "metadata": {},
   "outputs": [
    {
     "data": {
      "text/latex": [
       "$\\displaystyle \\left( s^{2} \\mathcal{L}_{t}\\left[y{\\left(t \\right)}\\right]\\left(s\\right) + 2 s \\mathcal{L}_{t}\\left[y{\\left(t \\right)}\\right]\\left(s\\right) - s y{\\left(0 \\right)} + 10 \\mathcal{L}_{t}\\left[y{\\left(t \\right)}\\right]\\left(s\\right) - 2 y{\\left(0 \\right)} - \\left. \\frac{d}{d t} y{\\left(t \\right)} \\right|_{\\substack{ t=0 }} - \\frac{6}{s^{2} + 9}, \\  0, \\  \\text{True}\\right)$"
      ],
      "text/plain": [
       "⎛ 2                                                                           \n",
       "⎜s ⋅LaplaceTransform(y(t), t, s) + 2⋅s⋅LaplaceTransform(y(t), t, s) - s⋅y(0) +\n",
       "⎜                                                                             \n",
       "⎝                                                                             \n",
       "\n",
       "                                            ⎛d       ⎞│        6            ⎞\n",
       " 10⋅LaplaceTransform(y(t), t, s) - 2⋅y(0) - ⎜──(y(t))⎟│    - ──────, 0, True⎟\n",
       "                                            ⎝dt      ⎠│t=0    2             ⎟\n",
       "                                                             s  + 9         ⎠"
      ]
     },
     "execution_count": 22,
     "metadata": {},
     "output_type": "execute_result"
    }
   ],
   "source": [
    "L_ode"
   ]
  },
  {
   "cell_type": "code",
   "execution_count": 32,
   "metadata": {},
   "outputs": [],
   "source": [
    "# Obtener la expresión de la transformada de Laplace (el primer elemento del resultado)\n",
    "L_y_expr = L_y[0]  # El primer elemento de la tupla devuelta por LaplaceTransform\n",
    "\n",
    "# Ahora sustituimos L_y_expr por Y en la ecuación\n",
    "L_ode_3 = L_ode[0].subs(L_y_expr, Y)"
   ]
  },
  {
   "cell_type": "code",
   "execution_count": 34,
   "metadata": {},
   "outputs": [],
   "source": [
    "#L_ode_2 = laplace_transform_derivatives(L_ode)"
   ]
  },
  {
   "cell_type": "code",
   "execution_count": 36,
   "metadata": {},
   "outputs": [],
   "source": [
    "#L_ode_2"
   ]
  },
  {
   "cell_type": "code",
   "execution_count": 38,
   "metadata": {},
   "outputs": [],
   "source": [
    "#L_ode_3 = L_ode_2[0].subs(L_y, Y) #Comando para acceder al 1er elemento de la tupla y sustiyuye el valor algebraico L_y por Y"
   ]
  },
  {
   "cell_type": "code",
   "execution_count": 40,
   "metadata": {},
   "outputs": [
    {
     "data": {
      "text/latex": [
       "$\\displaystyle Y s^{2} + 2 Y s + 10 Y - s y{\\left(0 \\right)} - 2 y{\\left(0 \\right)} - \\left. \\frac{d}{d t} y{\\left(t \\right)} \\right|_{\\substack{ t=0 }} - \\frac{6}{s^{2} + 9}$"
      ],
      "text/plain": [
       "   2                                    ⎛d       ⎞│        6   \n",
       "Y⋅s  + 2⋅Y⋅s + 10⋅Y - s⋅y(0) - 2⋅y(0) - ⎜──(y(t))⎟│    - ──────\n",
       "                                        ⎝dt      ⎠│t=0    2    \n",
       "                                                         s  + 9"
      ]
     },
     "execution_count": 40,
     "metadata": {},
     "output_type": "execute_result"
    }
   ],
   "source": [
    "L_ode_3"
   ]
  },
  {
   "cell_type": "code",
   "execution_count": 42,
   "metadata": {},
   "outputs": [],
   "source": [
    "ics = {y(0): 1, y(t).diff(t).subs(t, 0): 0} #COmando para agregar condiciiones iniciales"
   ]
  },
  {
   "cell_type": "code",
   "execution_count": 44,
   "metadata": {},
   "outputs": [
    {
     "data": {
      "text/latex": [
       "$\\displaystyle \\left\\{ y{\\left(0 \\right)} : 1, \\  \\left. \\frac{d}{d t} y{\\left(t \\right)} \\right|_{\\substack{ t=0 }} : 0\\right\\}$"
      ],
      "text/plain": [
       "⎧         ⎛d       ⎞│      ⎫\n",
       "⎨y(0): 1, ⎜──(y(t))⎟│   : 0⎬\n",
       "⎩         ⎝dt      ⎠│t=0   ⎭"
      ]
     },
     "execution_count": 44,
     "metadata": {},
     "output_type": "execute_result"
    }
   ],
   "source": [
    "ics"
   ]
  },
  {
   "cell_type": "code",
   "execution_count": 46,
   "metadata": {},
   "outputs": [],
   "source": [
    "L_ode_4 = L_ode_3.subs(ics) #Sustituye los valores iniciales en la ED L_ode_3"
   ]
  },
  {
   "cell_type": "code",
   "execution_count": 48,
   "metadata": {},
   "outputs": [
    {
     "data": {
      "text/latex": [
       "$\\displaystyle Y s^{2} + 2 Y s + 10 Y - s - 2 - \\frac{6}{s^{2} + 9}$"
      ],
      "text/plain": [
       "   2                            6   \n",
       "Y⋅s  + 2⋅Y⋅s + 10⋅Y - s - 2 - ──────\n",
       "                               2    \n",
       "                              s  + 9"
      ]
     },
     "execution_count": 48,
     "metadata": {},
     "output_type": "execute_result"
    }
   ],
   "source": [
    "L_ode_4"
   ]
  },
  {
   "cell_type": "code",
   "execution_count": 50,
   "metadata": {},
   "outputs": [],
   "source": [
    "Y_sol = sympy.solve(L_ode_4,Y)"
   ]
  },
  {
   "cell_type": "code",
   "execution_count": 52,
   "metadata": {},
   "outputs": [
    {
     "data": {
      "text/latex": [
       "$\\displaystyle \\left[ \\frac{s^{3} + 2 s^{2} + 9 s + 24}{s^{4} + 2 s^{3} + 19 s^{2} + 18 s + 90}\\right]$"
      ],
      "text/plain": [
       "⎡      3      2               ⎤\n",
       "⎢     s  + 2⋅s  + 9⋅s + 24    ⎥\n",
       "⎢─────────────────────────────⎥\n",
       "⎢ 4      3       2            ⎥\n",
       "⎣s  + 2⋅s  + 19⋅s  + 18⋅s + 90⎦"
      ]
     },
     "execution_count": 52,
     "metadata": {},
     "output_type": "execute_result"
    }
   ],
   "source": [
    "Y_sol #Muesta la solución a la ED, sin embargo cuando aparece un cuadrito significa que la ED no tiene solución por este metodo"
   ]
  },
  {
   "cell_type": "code",
   "execution_count": 54,
   "metadata": {},
   "outputs": [],
   "source": [
    "solu=sympy.apart(Y_sol)"
   ]
  },
  {
   "cell_type": "code",
   "execution_count": 56,
   "metadata": {},
   "outputs": [
    {
     "data": {
      "text/latex": [
       "$\\displaystyle \\left[ - \\frac{6 \\cdot \\left(2 s - 1\\right)}{37 \\left(s^{2} + 9\\right)} + \\frac{49 s + 92}{37 \\left(s^{2} + 2 s + 10\\right)}\\right]$"
      ],
      "text/plain": [
       "⎡  6⋅(2⋅s - 1)       49⋅s + 92     ⎤\n",
       "⎢- ─────────── + ──────────────────⎥\n",
       "⎢     ⎛ 2    ⎞      ⎛ 2           ⎞⎥\n",
       "⎣  37⋅⎝s  + 9⎠   37⋅⎝s  + 2⋅s + 10⎠⎦"
      ]
     },
     "execution_count": 56,
     "metadata": {},
     "output_type": "execute_result"
    }
   ],
   "source": [
    "solu"
   ]
  },
  {
   "cell_type": "code",
   "execution_count": 58,
   "metadata": {},
   "outputs": [],
   "source": [
    "y_sol = sympy.inverse_laplace_transform(solu[0], s, t)"
   ]
  },
  {
   "cell_type": "code",
   "execution_count": 60,
   "metadata": {},
   "outputs": [
    {
     "data": {
      "text/latex": [
       "$\\displaystyle \\frac{2 \\sin{\\left(3 t \\right)}}{37} - \\frac{12 \\cos{\\left(3 t \\right)}}{37} + \\frac{43 e^{- t} \\sin{\\left(3 t \\right)}}{111} + \\frac{49 e^{- t} \\cos{\\left(3 t \\right)}}{37}$"
      ],
      "text/plain": [
       "                               -t                -t         \n",
       "2⋅sin(3⋅t)   12⋅cos(3⋅t)   43⋅ℯ  ⋅sin(3⋅t)   49⋅ℯ  ⋅cos(3⋅t)\n",
       "────────── - ─────────── + ─────────────── + ───────────────\n",
       "    37            37             111                37      "
      ]
     },
     "execution_count": 60,
     "metadata": {},
     "output_type": "execute_result"
    }
   ],
   "source": [
    "y_sol"
   ]
  },
  {
   "cell_type": "code",
   "execution_count": 62,
   "metadata": {},
   "outputs": [
    {
     "data": {
      "text/latex": [
       "$\\displaystyle \\frac{\\left(6 \\left(\\sin{\\left(3 t \\right)} - 6 \\cos{\\left(3 t \\right)}\\right) e^{t} + 43 \\sin{\\left(3 t \\right)} + 147 \\cos{\\left(3 t \\right)}\\right) e^{- t}}{111}$"
      ],
      "text/plain": [
       "⎛                           t                             ⎞  -t\n",
       "⎝6⋅(sin(3⋅t) - 6⋅cos(3⋅t))⋅ℯ  + 43⋅sin(3⋅t) + 147⋅cos(3⋅t)⎠⋅ℯ  \n",
       "───────────────────────────────────────────────────────────────\n",
       "                              111                              "
      ]
     },
     "execution_count": 62,
     "metadata": {},
     "output_type": "execute_result"
    }
   ],
   "source": [
    "sympy.simplify(y_sol) #Simplifico mejor la solución"
   ]
  },
  {
   "cell_type": "code",
   "execution_count": 64,
   "metadata": {},
   "outputs": [
    {
     "data": {
      "text/latex": [
       "$\\displaystyle 0.00900900900900901 \\cdot \\left(6.0 \\left(\\sin{\\left(3 t \\right)} - 6.0 \\cos{\\left(3 t \\right)}\\right) e^{t} + 43.0 \\sin{\\left(3 t \\right)} + 147.0 \\cos{\\left(3 t \\right)}\\right) e^{- t}$"
      ],
      "text/plain": [
       "                    ⎛                               t                         \n",
       "0.00900900900900901⋅⎝6.0⋅(sin(3⋅t) - 6.0⋅cos(3⋅t))⋅ℯ  + 43.0⋅sin(3⋅t) + 147.0⋅\n",
       "\n",
       "        ⎞  -t\n",
       "cos(3⋅t)⎠⋅ℯ  "
      ]
     },
     "execution_count": 64,
     "metadata": {},
     "output_type": "execute_result"
    }
   ],
   "source": [
    "sympy.simplify(y_sol).evalf()"
   ]
  },
  {
   "cell_type": "markdown",
   "metadata": {},
   "source": [
    "### **Documentación**\n",
    "\n",
    "El código `sympy.simplify(y_sol).evalf()` realiza dos acciones principales sobre la expresión `y_sol`:\r\n",
    "\r\n",
    "1. **`sympy.simplify(y_sol)`**:\r\n",
    "   - Intenta simplificar la expresión simbólica `y_sol` para reducirla a una forma más compacta o más fácil de interpretar.  \r\n",
    "   - Esto puede incluir combinar términos similares, factorizar, expandir, eliminar denominadores comunes, etc.  \r\n",
    "   - **Ejemplo:**\r\n",
    "     ```python\r\n",
    "     from sympy import simplify, symbols\r\n",
    "     x = symbols('x')\r\n",
    "     expr = (x**2 + 2*x + 1) / (x + 1)\r\n",
    "     print(simplify(expr))  # Resultado: x + 1\r\n",
    "     ```\r\n",
    "\r\n",
    "2. **`.evalf()`**:\r\n",
    "   - Evalúa la expresión simbólica en forma numérica, es decir, aproxima los valores exactos a números decimales flotantes con cierta precisión.  \r\n",
    "   - Se utiliza cuando necesitas resultados numéricos en lugar de valores simbólicos.  \r\n",
    "   - **Ejemplo:**\r\n",
    "     ```python\r\n",
    "     from sympy import symbols, pi\r\n",
    "     print(pi.evalf())  # Resultado: 3.1415to claridad como precisión numérica en los resultados."
   ]
  },
  {
   "cell_type": "code",
   "execution_count": 67,
   "metadata": {},
   "outputs": [],
   "source": [
    "y_t = sympy.lambdify(t, y_sol.evalf(), 'numpy')"
   ]
  },
  {
   "cell_type": "code",
   "execution_count": 69,
   "metadata": {},
   "outputs": [
    {
     "data": {
      "text/plain": [
       "<function _lambdifygenerated(t)>"
      ]
     },
     "execution_count": 69,
     "metadata": {},
     "output_type": "execute_result"
    }
   ],
   "source": [
    "y_t"
   ]
  },
  {
   "cell_type": "markdown",
   "metadata": {},
   "source": [
    "### **Documentación**\n",
    "La función `` y_t = sympy.lambdify(t, y_sol.evalf(), 'numpy') ``\n",
    "Crea una función de Python que depende de la variable t.\n",
    "Toma la expresión simbólica y la convierte en una función utilizable para cálculos numéricos."
   ]
  },
  {
   "cell_type": "code",
   "execution_count": 80,
   "metadata": {},
   "outputs": [
    {
     "data": {
      "image/png": "[encoded data removed]",
      "text/plain": [
       "<Figure size 800x400 with 1 Axes>"
      ]
     },
     "metadata": {
      "image/png": {
       "height": 391,
       "width": 787
      }
     },
     "output_type": "display_data"
    }
   ],
   "source": [
    "import matplotlib.pyplot as plt\n",
    "from matplotlib import rc\n",
    "\n",
    "rc(\"text\", usetex=False)  # Desactiva el uso de LaTeX\n",
    "\n",
    "fig, ax = plt.subplots(figsize=(8, 4))\n",
    "tt = np.linspace(0, 10, 500)\n",
    "ax.plot(tt, y_t(tt).real)\n",
    "ax.set_xlabel(r\"$t$\", fontsize=18)  # Todavía puedes usar texto matemático, pero sin LaTeX\n",
    "ax.set_ylabel(r\"$y(t)$\", fontsize=18)\n",
    "fig.tight_layout()\n",
    "plt.show()\n"
   ]
  },
  {
   "cell_type": "code",
   "execution_count": 74,
   "metadata": {},
   "outputs": [
    {
     "name": "stderr",
     "output_type": "stream",
     "text": [
      "UsageError: Line magic function `%version_information` not found.\n"
     ]
    }
   ],
   "source": [
    "%version_information numpy, scipy, sympy, matplotlib"
   ]
  },
  {
   "cell_type": "code",
   "execution_count": null,
   "metadata": {},
   "outputs": [],
   "source": []
  }
 ],
 "metadata": {
  "kernelspec": {
   "display_name": "Python 3 (ipykernel)",
   "language": "python",
   "name": "python3"
  },
  "language_info": {
   "codemirror_mode": {
    "name": "ipython",
    "version": 3
   },
   "file_extension": ".py",
   "mimetype": "text/x-python",
   "name": "python",
   "nbconvert_exporter": "python",
   "pygments_lexer": "ipython3",
   "version": "3.12.4"
  }
 },
 "nbformat": 4,
 "nbformat_minor": 4
}
